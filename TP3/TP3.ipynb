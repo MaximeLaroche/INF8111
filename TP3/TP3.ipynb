{
 "cells": [
  {
   "cell_type": "markdown",
   "metadata": {
    "id": "5fHWJhwOXGzh"
   },
   "source": [
    "# INF8111 - Fouille de données / Data Mining\n",
    "## Automne 2020 - TP3 - Fouille de réseaux sociaux / Mining of social networks\n",
    "### Membres de l'équipe / Team members\n",
    "    - Membre 1\n",
    "    - Membre 2\n",
    "    - Membre 3\n"
   ]
  },
  {
   "cell_type": "markdown",
   "metadata": {
    "id": "TmGvqtSVgfXi"
   },
   "source": [
    "## Instructions de remise / Submission\n",
    "\n",
    "Vous devez remettre dans la boîte de remise sur moodle:\n",
    "\n",
    "1. ce fichier nommé TP3\\_NomDuMembre1\\_NomDuMembre2\\_NomDuMembre3.ipynb\n",
    "\n",
    "**N.B**: Assurez-vous que tous les résultats soient lisibles lorsque le notebook est ouvert.\n",
    "\n",
    "Tout devra être remis avant le **23 juin 2021 à 23h55**. Tout travail en retard sera pénalisé d’une valeur de 10\\% par jour ouvrable de retard.\n",
    "\n",
    "## Barème\n",
    "\n",
    "Partie 1: 14 points\n",
    "\n",
    "Partie 2: 6 points\n",
    "\n",
    "Pour un total de 20 points.\n",
    "\n",
    "\n",
    "---\n",
    "\n",
    "## Submission\n",
    "\n",
    "You must put back in the submission box on moodle:\n",
    "\n",
    "1. this file renamed TP3\\_NomDuMembre1\\_NomDuMembre2\\_NomDuMembre3.ipynb\n",
    "\n",
    "**N.B**: Make sure that all results are there when you open your notebook.\n",
    "\n",
    "Everything must be submitted before **June 26th 2021 à 23h55**. Any late work will be penalized with a value of 10% per open day of delay.\n",
    "\n",
    "## Barème\n",
    "Part 1: 14 points\n",
    "\n",
    "Part 2: 6 points\n",
    "\n",
    "For a total of 20 points.\n"
   ]
  },
  {
   "cell_type": "markdown",
   "metadata": {
    "id": "P1et8f3nXGzk"
   },
   "source": [
    "## Réseaux sociaux / Social Networks\n",
    "Les réseaux sociaux occupent une grande partie de la vie humaine. Chaque personne appartient tout le long de sa vie à différentes communautés. Avec le rassemblage de ces informations sur les différentes plateformes en ligne de réseaux sociaux, les analystes de données ont voulu exploiter ces données. C'est un domaine relativement nouveau qui est en pleine croissance avec plusieurs impacts sur plusieurs aspects tels que la publicité et les systèmes de recommandation. \n",
    "\n",
    "### But\n",
    "Le but de ce TP est de vous donner un aperçu de l'analyse d'un réseau social.\n",
    "\n",
    "Dans la première partie, vous implémenterez un algorithme de détection de communautés dans un réseau social nommé LPAm+. Cet algorithme a été proposé par [X. Liu et T. Murata en 2010](https://www.sciencedirect.com/science/article/pii/S0378437109010152).\n",
    "\n",
    "Dans la deuxième partie, vous trouverez les personnes avec le plus d'influence dans leur réseau social. \n",
    "\n",
    "Pour les deux parties, nous vous fournissons les CSV contenant les réseaux sociaux à analyser.\n",
    "\n",
    "\n",
    "---\n",
    "\n",
    "## Social networks\n",
    "Social networks are a major component of the human life. Each person belongs throughout their life to different communities. With the aggregation of information on various online social media platforms, data analysts were interested in exploiting its data. It is a relatively new field that is growing with impacts on several aspects such as advertising and recommendation systems.\n",
    "\n",
    "\n",
    "### Goal\n",
    "The purpose of this lab is to give you an overview of social network analysis.\n",
    "\n",
    "In the first part, you will implement an algorithm for detecting communities in a social network called LPAm+. This algorithm was proposed by [X. Liu and T. Murata in 2010](https://www.sciencedirect.com/science/article/pii/S0378437109010152).\n",
    "\n",
    "In the second part, you will find the people with the most influence in their social network.\n",
    "\n",
    "For both parts, we provide you with the CSV containing the social networks to be analysed."
   ]
  },
  {
   "cell_type": "markdown",
   "metadata": {
    "id": "517JwzlPXGzp"
   },
   "source": [
    "# 1. LPAm+ (14 points)\n",
    "\n",
    "## Détection de communauté\n",
    "La détection de communauté dans un réseau social est une manipulation fréquente lors de l'analyse d'un réseau. Une méthode de clustering est utilisée pour rassembler les personnes dans des communautés selon les liens entre eux. \n",
    "\n",
    "## LPAm+\n",
    "Dans cette partie, vous implémenterez l'algorithme LPAm+ pour détecter les communautés parmi les personnages de Games of Thrones. Vous devez utiliser les CSV *nodes* et *edges* pour cela. \n",
    "\n",
    "Cet algorithme consiste à propager les étiquettes dans le réseau selon une règle d'évaluation optimisant la modularité du réseau. Lorsque l'algorithme atteint un optimum local, il regarde s'il peut combiner deux communautés pour augmenter la modularité du réseau. L'algorithme choisit toujours la combinaison la plus avantageuse. Si une combinaison est trouvée, la propagation des étiquettes est refaite. L'algorithme continue tant qu'elle peut améliorer la modularité. Vous pouvez lire l'article mentionné plus haut pour plus de détails, mais cela n'est pas nécessaire puisque vous allez être guidé tout le long du TP. \n",
    "\n",
    "Pour faciliter la représentation du réseau, nous vous proposons d'utiliser le package networkx. La documentation est disponible [ici](https://networkx.github.io/documentation/stable/tutorial.html).\n",
    "\n",
    "\n",
    "\n",
    "---\n",
    "\n",
    "# 1. LPAm+ (14 points)\n",
    "\n",
    "\n",
    "## Community detection\n",
    "Community detection in a social network is a frequent manipulation when analysing a network. A clustering method is used to bring people together in communities according to the links between them.\n",
    "\n",
    "\n",
    "## LPAm+\n",
    "In this part, you will implement the LPAm+ algorithm to detect the communities among the characters of Games of Thrones. You must use the nodes and edges csv for this.\n",
    "\n",
    "This algorithm consists in propagating the labels in the network according to an evaluation rule optimizing the modularity of the network. When the algorithm reaches a local optimum, it checks whether it can combine two communities to increase the modularity of the network. The algorithm always chooses the most advantageous combination. If a combination is found, the propagation of the labels is redone. The algorithm continues until it is no longer able to increase modularity. You can read the article mentioned above for more details, but you do not need to, as you will be guided throughout the TP.\n",
    "\n",
    "\n",
    "To help you represent a network, we suggest that you use the networkx package.You can read more about the package [here](https://networkx.github.io/documentation/stable/tutorial.html)."
   ]
  },
  {
   "cell_type": "code",
   "execution_count": 1,
   "metadata": {
    "id": "9DGyw323Srh0"
   },
   "outputs": [
    {
     "output_type": "stream",
     "name": "stdout",
     "text": [
      "Requirement already satisfied: numpy in c:\\users\\maxime\\appdata\\local\\programs\\python\\python39\\lib\\site-packages (1.19.5)\n",
      "Requirement already satisfied: pandas in c:\\users\\maxime\\appdata\\local\\programs\\python\\python39\\lib\\site-packages (1.2.4)\n",
      "Requirement already satisfied: pytz>=2017.3 in c:\\users\\maxime\\appdata\\local\\programs\\python\\python39\\lib\\site-packages (from pandas) (2021.1)\n",
      "Requirement already satisfied: python-dateutil>=2.7.3 in c:\\users\\maxime\\appdata\\roaming\\python\\python39\\site-packages (from pandas) (2.8.1)\n",
      "Requirement already satisfied: numpy>=1.16.5 in c:\\users\\maxime\\appdata\\local\\programs\\python\\python39\\lib\\site-packages (from pandas) (1.19.5)\n",
      "Requirement already satisfied: six>=1.5 in c:\\users\\maxime\\appdata\\local\\programs\\python\\python39\\lib\\site-packages (from python-dateutil>=2.7.3->pandas) (1.15.0)\n",
      "Requirement already satisfied: matplotlib in c:\\users\\maxime\\appdata\\local\\programs\\python\\python39\\lib\\site-packages (3.4.2)\n",
      "Requirement already satisfied: python-dateutil>=2.7 in c:\\users\\maxime\\appdata\\roaming\\python\\python39\\site-packages (from matplotlib) (2.8.1)\n",
      "Requirement already satisfied: cycler>=0.10 in c:\\users\\maxime\\appdata\\local\\programs\\python\\python39\\lib\\site-packages (from matplotlib) (0.10.0)\n",
      "Requirement already satisfied: numpy>=1.16 in c:\\users\\maxime\\appdata\\local\\programs\\python\\python39\\lib\\site-packages (from matplotlib) (1.19.5)\n",
      "Requirement already satisfied: pillow>=6.2.0 in c:\\users\\maxime\\appdata\\local\\programs\\python\\python39\\lib\\site-packages (from matplotlib) (8.2.0)\n",
      "Requirement already satisfied: pyparsing>=2.2.1 in c:\\users\\maxime\\appdata\\local\\programs\\python\\python39\\lib\\site-packages (from matplotlib) (2.4.7)\n",
      "Requirement already satisfied: kiwisolver>=1.0.1 in c:\\users\\maxime\\appdata\\local\\programs\\python\\python39\\lib\\site-packages (from matplotlib) (1.3.1)\n",
      "Requirement already satisfied: six in c:\\users\\maxime\\appdata\\local\\programs\\python\\python39\\lib\\site-packages (from cycler>=0.10->matplotlib) (1.15.0)\n",
      "Requirement already satisfied: networkx in c:\\users\\maxime\\appdata\\roaming\\python\\python39\\site-packages (2.5.1)\n",
      "Requirement already satisfied: decorator<5,>=4.3 in c:\\users\\maxime\\appdata\\roaming\\python\\python39\\site-packages (from networkx) (4.4.2)\n"
     ]
    }
   ],
   "source": [
    "# vous pouvez bien sûr utiliser anaconda pour installer les packages\n",
    "!pip install --user numpy\n",
    "!pip install --user pandas\n",
    "!pip install --user matplotlib\n",
    "!pip install --user networkx"
   ]
  },
  {
   "cell_type": "code",
   "execution_count": 2,
   "metadata": {
    "id": "SK6OhgIoSrh5"
   },
   "outputs": [],
   "source": [
    "import numpy as np\n",
    "import networkx as nx\n",
    "import random\n",
    "import itertools\n",
    "import math\n",
    "\n",
    "\n",
    "class LPAmPlus:\n",
    "    \"\"\"\n",
    "    Contructor\n",
    "    \"\"\"\n",
    "\n",
    "    def __init__(self, graph):\n",
    "        \"\"\"\n",
    "        graph gives the graph on which the algorithm will be applied;\n",
    "        \"\"\"\n",
    "        \n",
    "        self.graph = graph\n",
    "\n",
    "\n",
    "        \"\"\"\n",
    "        Assign a label to each node\n",
    "        \"\"\"\n",
    "        \n",
    "        #TODO\n",
    "        for i, node in enumerate(self.graph.nodes):\n",
    "            self.graph.nodes[node]['label'] = i\n",
    "\n",
    "        \"\"\"\n",
    "        labels gives all the communities present in the network\n",
    "        \"\"\"\n",
    "        \n",
    "        self.labels = [i for i in range(0, self.graph.number_of_nodes())]\n",
    "\n",
    "       \n",
    "\n",
    "    \"\"\"\n",
    "    Term to optimize when replacing labels\n",
    "    \"\"\"\n",
    "\n",
    "    def label_evaluation(self, current_node, new_label):\n",
    "        #TODO    \n",
    "        B = nx.linalg.modularity_matrix(self.graph)\n",
    "        l_sum = 0\n",
    "        \n",
    "        for i, node in enumerate(self.graph.nodes):\n",
    "            if (new_label == self.graph.nodes[node]['label']) and (node != current_node):\n",
    "                index_current_node = list(self.graph.nodes).index(current_node)\n",
    "                l_sum += B.item((i, index_current_node)) \n",
    "\n",
    "        return l_sum\n",
    "\n",
    "    \"\"\"\n",
    "    Function to choose the new label for a node\n",
    "    \"\"\"\n",
    "\n",
    "    def update_label(self, current_node):\n",
    "        #TODO\n",
    "        old_label = self.graph.nodes[current_node]['label']\n",
    "        best_l_sum = 0\n",
    "        potential_labels = [old_label]\n",
    "        \n",
    "        for label in self.labels:\n",
    "            temp_l_sum = self.label_evaluation(current_node, label)\n",
    "            if (temp_l_sum == best_l_sum):\n",
    "                potential_labels.append(label)\n",
    "            elif (temp_l_sum > best_l_sum):\n",
    "                best_l_sum = temp_l_sum\n",
    "                potential_labels = [label]\n",
    "        \n",
    "        new_label = random.choice(potential_labels)\n",
    "        self.graph.nodes[current_node]['label'] = new_label\n",
    "        all_labels_used = [self.graph.nodes[node]['label'] for node in self.graph.nodes]\n",
    "        \n",
    "        if old_label not in all_labels_used:\n",
    "            self.labels.remove(old_label)\n",
    "        \n",
    "\n",
    "    \"\"\"\n",
    "    Function that calculates the current modularity of the network\n",
    "    \"\"\"\n",
    "\n",
    "    def modularity(self):\n",
    "        #TODO\n",
    "        modul_matrix = nx.modularity_matrix(self.graph)\n",
    "        modularity = 0\n",
    "        \n",
    "        for i, node_i in enumerate(self.graph.nodes):\n",
    "            label_i = self.graph.nodes[node_i]['label']\n",
    "            for j, node_j in enumerate(self.graph.nodes):\n",
    "                label_j = self.graph.nodes[node_j]['label']\n",
    "                if(label_i == label_j):\n",
    "                    modularity += modul_matrix.item((i, j))\n",
    "        \n",
    "        m = len(self.graph.edges)\n",
    "        return (modularity/(2*m))\n",
    "    \n",
    "    \n",
    "    \"\"\"\n",
    "    Function that applies the LPAm algorithm on the network\n",
    "    \"\"\"\n",
    "\n",
    "    def LPAm(self):\n",
    "        #TODO\n",
    "        current_modularite = -np.Inf\n",
    "        new_modularite = self.modularity()\n",
    "        \n",
    "        while(current_modularite < new_modularite):\n",
    "            for node in self.graph.nodes:\n",
    "                self.update_label(node)\n",
    "                current_modularite = new_modularite\n",
    "                new_modularite = self.modularity()\n",
    "        \n",
    "    \"\"\"\n",
    "    Function that find which communities to combine and combine them\n",
    "    \"\"\"\n",
    "    \n",
    "    def merge_communities(self):\n",
    "        #TODO\n",
    "        merge = False\n",
    "        current_graph = self.graph.copy() \n",
    "        current_modularite = self.modularity()\n",
    "        nb_labels = len(self.labels)\n",
    "        \n",
    "        for i in range(0, nb_labels-1):\n",
    "            label_i = self.labels[i]\n",
    "            for j in range(i+1, nb_labels):\n",
    "                label_j = self.labels[j]\n",
    "                for node in self.graph.nodes:\n",
    "                    if (self.graph.nodes[node]['label'] == label_j):\n",
    "                        self.graph.nodes[node]['label'] = label_i\n",
    "                new_modularite = self.modularity()\n",
    "                \n",
    "                if (new_modularite >= current_modularite):\n",
    "                    current_modularite = new_modularite\n",
    "                    best_merge = [label_i, label_j]\n",
    "                    merge = True\n",
    "                self.graph = current_graph.copy()\n",
    "        \n",
    "        if merge :\n",
    "            for node in self.graph.nodes:\n",
    "                if (self.graph.nodes[node]['label'] == best_merge[0]):\n",
    "                    self.graph.nodes[node]['label'] = best_merge[1]\n",
    "            self.labels.remove(best_merge[0])        \n",
    "        \n",
    "        return merge\n",
    "    \n",
    "    \"\"\"\n",
    "    Function that applies the LPAm+ algorithm on the network\n",
    "    \"\"\"\n",
    "\n",
    "    def find_communities(self):\n",
    "        #TODO\n",
    "        self.LPAm()\n",
    "        merge_left = True\n",
    "        \n",
    "        while(merge_left):\n",
    "            merge_left = self.merge_communities()"
   ]
  },
  {
   "cell_type": "markdown",
   "metadata": {
    "id": "Yv83c1sWXGzq"
   },
   "source": [
    "### 1.1 Dataset (1 point)\n",
    "\n",
    "Nous vous avons fourni les CSV pour toutes les saisons de Games of Thrones. Vous devez maintenant représenter ces réseaux en utilisant les deux CSV fournis pour chaque saison: un pour les sommets et un pour les arêtes. \n",
    "\n",
    "\n",
    "#### Implémentation\n",
    "1. Implémentez  la fonction  *`load_unweighted_network`*. Cette fonction retourne le réseau non dirigé et sans poids.\n",
    "\n",
    "Utilisez la fonction `test_load` pour vérifier votre implémentation de la fonction. Ce test utilise un petit toy dataset. Vous devriez avoir quelque chose de similaire (data/picture.png):\n",
    "![title](data/picture.png)\n",
    "\n",
    "\n",
    "---\n",
    "We have provided you with the csv for all the seasons of Games of Thrones. You must now represent each of those networks in code using two csv for each season: the one for the nodes and the one for the edges.\n",
    "\n",
    "\n",
    "#### Implementation\n",
    "1. Implement the function *`load_unweighted_network`*. This function returns a undirected and unweighted graph.\n",
    "\n",
    "Use the function `test_load` to verify your implementation of the function. This test use a toy dataset. You should obtain a result similar to this (data/picture.png):\n",
    "![title](data/picture.png)\n"
   ]
  },
  {
   "cell_type": "code",
   "execution_count": 3,
   "metadata": {
    "id": "1wGC7MC3Srh-"
   },
   "outputs": [],
   "source": [
    "import csv\n",
    "import pandas as pd\n",
    "import networkx as nx\n",
    "\n",
    "def load_unweighted_network(node_csv, edge_csv):\n",
    "    #TODO\n",
    "    \n",
    "    df_node_csv = pd.read_csv(node_csv)\n",
    "    node_list = []\n",
    "    for row in df_node_csv.iterrows():\n",
    "        node = (row[1][0], {\"Name\": row[1][1], \"Community\": row[1][2]})\n",
    "        node_list.append(node)\n",
    "    \n",
    "    df_edge_csv = pd.read_csv(edge_csv)\n",
    "    edge_list = []\n",
    "    for row in df_edge_csv.iterrows():\n",
    "        edge = (row[1][0], row[1][1])\n",
    "        edge_list.append(edge)\n",
    "    \n",
    "    network = nx.Graph()\n",
    "    network.add_nodes_from(node_list)\n",
    "    network.add_edges_from(edge_list)\n",
    "    \n",
    "    return network"
   ]
  },
  {
   "cell_type": "code",
   "execution_count": 4,
   "metadata": {
    "id": "HEwBsNVsjvfs"
   },
   "outputs": [
    {
     "output_type": "display_data",
     "data": {
      "text/plain": "<Figure size 432x288 with 1 Axes>",
      "image/svg+xml": "<?xml version=\"1.0\" encoding=\"utf-8\" standalone=\"no\"?>\r\n<!DOCTYPE svg PUBLIC \"-//W3C//DTD SVG 1.1//EN\"\r\n  \"http://www.w3.org/Graphics/SVG/1.1/DTD/svg11.dtd\">\r\n<svg height=\"231.84pt\" version=\"1.1\" viewBox=\"0 0 349.2 231.84\" width=\"349.2pt\" xmlns=\"http://www.w3.org/2000/svg\" xmlns:xlink=\"http://www.w3.org/1999/xlink\">\r\n <metadata>\r\n  <rdf:RDF xmlns:cc=\"http://creativecommons.org/ns#\" xmlns:dc=\"http://purl.org/dc/elements/1.1/\" xmlns:rdf=\"http://www.w3.org/1999/02/22-rdf-syntax-ns#\">\r\n   <cc:Work>\r\n    <dc:type rdf:resource=\"http://purl.org/dc/dcmitype/StillImage\"/>\r\n    <dc:date>2021-06-19T17:12:30.640830</dc:date>\r\n    <dc:format>image/svg+xml</dc:format>\r\n    <dc:creator>\r\n     <cc:Agent>\r\n      <dc:title>Matplotlib v3.4.2, https://matplotlib.org/</dc:title>\r\n     </cc:Agent>\r\n    </dc:creator>\r\n   </cc:Work>\r\n  </rdf:RDF>\r\n </metadata>\r\n <defs>\r\n  <style type=\"text/css\">*{stroke-linecap:butt;stroke-linejoin:round;}</style>\r\n </defs>\r\n <g id=\"figure_1\">\r\n  <g id=\"patch_1\">\r\n   <path d=\"M 0 231.84 \r\nL 349.2 231.84 \r\nL 349.2 0 \r\nL 0 0 \r\nz\r\n\" style=\"fill:none;\"/>\r\n  </g>\r\n  <g id=\"axes_1\">\r\n   <g id=\"patch_2\">\r\n    <path d=\"M 7.2 224.64 \r\nL 342 224.64 \r\nL 342 7.2 \r\nL 7.2 7.2 \r\nz\r\n\" style=\"fill:#ffffff;\"/>\r\n   </g>\r\n   <g id=\"LineCollection_1\">\r\n    <path clip-path=\"url(#p87d51f6ddf)\" d=\"M 172.727082 51.559417 \r\nL 90.510881 39.314655 \r\n\" style=\"fill:none;stroke:#000000;\"/>\r\n    <path clip-path=\"url(#p87d51f6ddf)\" d=\"M 172.727082 51.559417 \r\nL 120.003797 31.071814 \r\n\" style=\"fill:none;stroke:#000000;\"/>\r\n    <path clip-path=\"url(#p87d51f6ddf)\" d=\"M 172.727082 51.559417 \r\nL 142.01899 51.698394 \r\n\" style=\"fill:none;stroke:#000000;\"/>\r\n    <path clip-path=\"url(#p87d51f6ddf)\" d=\"M 172.727082 51.559417 \r\nL 161.113343 95.387347 \r\n\" style=\"fill:none;stroke:#000000;\"/>\r\n    <path clip-path=\"url(#p87d51f6ddf)\" d=\"M 90.510881 39.314655 \r\nL 120.003797 31.071814 \r\n\" style=\"fill:none;stroke:#000000;\"/>\r\n    <path clip-path=\"url(#p87d51f6ddf)\" d=\"M 90.510881 39.314655 \r\nL 142.01899 51.698394 \r\n\" style=\"fill:none;stroke:#000000;\"/>\r\n    <path clip-path=\"url(#p87d51f6ddf)\" d=\"M 90.510881 39.314655 \r\nL 22.418182 34.557467 \r\n\" style=\"fill:none;stroke:#000000;\"/>\r\n    <path clip-path=\"url(#p87d51f6ddf)\" d=\"M 90.510881 39.314655 \r\nL 77.058025 63.698085 \r\n\" style=\"fill:none;stroke:#000000;\"/>\r\n    <path clip-path=\"url(#p87d51f6ddf)\" d=\"M 90.510881 39.314655 \r\nL 104.808509 57.184646 \r\n\" style=\"fill:none;stroke:#000000;\"/>\r\n    <path clip-path=\"url(#p87d51f6ddf)\" d=\"M 120.003797 31.071814 \r\nL 142.01899 51.698394 \r\n\" style=\"fill:none;stroke:#000000;\"/>\r\n    <path clip-path=\"url(#p87d51f6ddf)\" d=\"M 120.003797 31.071814 \r\nL 63.451263 17.083636 \r\n\" style=\"fill:none;stroke:#000000;\"/>\r\n    <path clip-path=\"url(#p87d51f6ddf)\" d=\"M 120.003797 31.071814 \r\nL 77.058025 63.698085 \r\n\" style=\"fill:none;stroke:#000000;\"/>\r\n    <path clip-path=\"url(#p87d51f6ddf)\" d=\"M 120.003797 31.071814 \r\nL 104.808509 57.184646 \r\n\" style=\"fill:none;stroke:#000000;\"/>\r\n    <path clip-path=\"url(#p87d51f6ddf)\" d=\"M 142.01899 51.698394 \r\nL 111.51355 82.813763 \r\n\" style=\"fill:none;stroke:#000000;\"/>\r\n    <path clip-path=\"url(#p87d51f6ddf)\" d=\"M 22.418182 34.557467 \r\nL 63.451263 17.083636 \r\n\" style=\"fill:none;stroke:#000000;\"/>\r\n    <path clip-path=\"url(#p87d51f6ddf)\" d=\"M 22.418182 34.557467 \r\nL 77.058025 63.698085 \r\n\" style=\"fill:none;stroke:#000000;\"/>\r\n    <path clip-path=\"url(#p87d51f6ddf)\" d=\"M 63.451263 17.083636 \r\nL 104.808509 57.184646 \r\n\" style=\"fill:none;stroke:#000000;\"/>\r\n    <path clip-path=\"url(#p87d51f6ddf)\" d=\"M 77.058025 63.698085 \r\nL 161.113343 95.387347 \r\n\" style=\"fill:none;stroke:#000000;\"/>\r\n    <path clip-path=\"url(#p87d51f6ddf)\" d=\"M 77.058025 63.698085 \r\nL 111.51355 82.813763 \r\n\" style=\"fill:none;stroke:#000000;\"/>\r\n    <path clip-path=\"url(#p87d51f6ddf)\" d=\"M 77.058025 63.698085 \r\nL 104.808509 57.184646 \r\n\" style=\"fill:none;stroke:#000000;\"/>\r\n    <path clip-path=\"url(#p87d51f6ddf)\" d=\"M 161.113343 95.387347 \r\nL 111.51355 82.813763 \r\n\" style=\"fill:none;stroke:#000000;\"/>\r\n    <path clip-path=\"url(#p87d51f6ddf)\" d=\"M 161.113343 95.387347 \r\nL 104.808509 57.184646 \r\n\" style=\"fill:none;stroke:#000000;\"/>\r\n    <path clip-path=\"url(#p87d51f6ddf)\" d=\"M 161.113343 95.387347 \r\nL 245.124338 155.892465 \r\n\" style=\"fill:none;stroke:#000000;\"/>\r\n    <path clip-path=\"url(#p87d51f6ddf)\" d=\"M 111.51355 82.813763 \r\nL 104.808509 57.184646 \r\n\" style=\"fill:none;stroke:#000000;\"/>\r\n    <path clip-path=\"url(#p87d51f6ddf)\" d=\"M 283.406229 193.664336 \r\nL 312.695491 214.756364 \r\n\" style=\"fill:none;stroke:#000000;\"/>\r\n    <path clip-path=\"url(#p87d51f6ddf)\" d=\"M 283.406229 193.664336 \r\nL 251.998487 195.724636 \r\n\" style=\"fill:none;stroke:#000000;\"/>\r\n    <path clip-path=\"url(#p87d51f6ddf)\" d=\"M 283.406229 193.664336 \r\nL 287.111075 173.95306 \r\n\" style=\"fill:none;stroke:#000000;\"/>\r\n    <path clip-path=\"url(#p87d51f6ddf)\" d=\"M 283.406229 193.664336 \r\nL 245.124338 155.892465 \r\n\" style=\"fill:none;stroke:#000000;\"/>\r\n    <path clip-path=\"url(#p87d51f6ddf)\" d=\"M 312.695491 214.756364 \r\nL 251.998487 195.724636 \r\n\" style=\"fill:none;stroke:#000000;\"/>\r\n    <path clip-path=\"url(#p87d51f6ddf)\" d=\"M 312.695491 214.756364 \r\nL 326.781818 181.857038 \r\n\" style=\"fill:none;stroke:#000000;\"/>\r\n    <path clip-path=\"url(#p87d51f6ddf)\" d=\"M 251.998487 195.724636 \r\nL 287.111075 173.95306 \r\n\" style=\"fill:none;stroke:#000000;\"/>\r\n    <path clip-path=\"url(#p87d51f6ddf)\" d=\"M 251.998487 195.724636 \r\nL 245.124338 155.892465 \r\n\" style=\"fill:none;stroke:#000000;\"/>\r\n    <path clip-path=\"url(#p87d51f6ddf)\" d=\"M 287.111075 173.95306 \r\nL 326.781818 181.857038 \r\n\" style=\"fill:none;stroke:#000000;\"/>\r\n    <path clip-path=\"url(#p87d51f6ddf)\" d=\"M 287.111075 173.95306 \r\nL 245.124338 155.892465 \r\n\" style=\"fill:none;stroke:#000000;\"/>\r\n    <path clip-path=\"url(#p87d51f6ddf)\" d=\"M 326.781818 181.857038 \r\nL 245.124338 155.892465 \r\n\" style=\"fill:none;stroke:#000000;\"/>\r\n   </g>\r\n   <g id=\"matplotlib.axis_1\">\r\n    <g id=\"xtick_1\"/>\r\n    <g id=\"xtick_2\"/>\r\n    <g id=\"xtick_3\"/>\r\n    <g id=\"xtick_4\"/>\r\n    <g id=\"xtick_5\"/>\r\n    <g id=\"xtick_6\"/>\r\n    <g id=\"xtick_7\"/>\r\n   </g>\r\n   <g id=\"matplotlib.axis_2\">\r\n    <g id=\"ytick_1\"/>\r\n    <g id=\"ytick_2\"/>\r\n    <g id=\"ytick_3\"/>\r\n    <g id=\"ytick_4\"/>\r\n    <g id=\"ytick_5\"/>\r\n    <g id=\"ytick_6\"/>\r\n    <g id=\"ytick_7\"/>\r\n    <g id=\"ytick_8\"/>\r\n   </g>\r\n   <g id=\"PathCollection_1\">\r\n    <defs>\r\n     <path d=\"M 0 8.660254 \r\nC 2.296726 8.660254 4.499694 7.747755 6.123724 6.123724 \r\nC 7.747755 4.499694 8.660254 2.296726 8.660254 0 \r\nC 8.660254 -2.296726 7.747755 -4.499694 6.123724 -6.123724 \r\nC 4.499694 -7.747755 2.296726 -8.660254 0 -8.660254 \r\nC -2.296726 -8.660254 -4.499694 -7.747755 -6.123724 -6.123724 \r\nC -7.747755 -4.499694 -8.660254 -2.296726 -8.660254 0 \r\nC -8.660254 2.296726 -7.747755 4.499694 -6.123724 6.123724 \r\nC -4.499694 7.747755 -2.296726 8.660254 0 8.660254 \r\nz\r\n\" id=\"mcdeb255b51\" style=\"stroke:#1f78b4;\"/>\r\n    </defs>\r\n    <g clip-path=\"url(#p87d51f6ddf)\">\r\n     <use style=\"fill:#1f78b4;stroke:#1f78b4;\" x=\"172.727082\" xlink:href=\"#mcdeb255b51\" y=\"51.559417\"/>\r\n     <use style=\"fill:#1f78b4;stroke:#1f78b4;\" x=\"90.510881\" xlink:href=\"#mcdeb255b51\" y=\"39.314655\"/>\r\n     <use style=\"fill:#1f78b4;stroke:#1f78b4;\" x=\"120.003797\" xlink:href=\"#mcdeb255b51\" y=\"31.071814\"/>\r\n     <use style=\"fill:#1f78b4;stroke:#1f78b4;\" x=\"142.01899\" xlink:href=\"#mcdeb255b51\" y=\"51.698394\"/>\r\n     <use style=\"fill:#1f78b4;stroke:#1f78b4;\" x=\"22.418182\" xlink:href=\"#mcdeb255b51\" y=\"34.557467\"/>\r\n     <use style=\"fill:#1f78b4;stroke:#1f78b4;\" x=\"63.451263\" xlink:href=\"#mcdeb255b51\" y=\"17.083636\"/>\r\n     <use style=\"fill:#1f78b4;stroke:#1f78b4;\" x=\"77.058025\" xlink:href=\"#mcdeb255b51\" y=\"63.698085\"/>\r\n     <use style=\"fill:#1f78b4;stroke:#1f78b4;\" x=\"161.113343\" xlink:href=\"#mcdeb255b51\" y=\"95.387347\"/>\r\n     <use style=\"fill:#1f78b4;stroke:#1f78b4;\" x=\"111.51355\" xlink:href=\"#mcdeb255b51\" y=\"82.813763\"/>\r\n     <use style=\"fill:#1f78b4;stroke:#1f78b4;\" x=\"104.808509\" xlink:href=\"#mcdeb255b51\" y=\"57.184646\"/>\r\n     <use style=\"fill:#1f78b4;stroke:#1f78b4;\" x=\"283.406229\" xlink:href=\"#mcdeb255b51\" y=\"193.664336\"/>\r\n     <use style=\"fill:#1f78b4;stroke:#1f78b4;\" x=\"312.695491\" xlink:href=\"#mcdeb255b51\" y=\"214.756364\"/>\r\n     <use style=\"fill:#1f78b4;stroke:#1f78b4;\" x=\"251.998487\" xlink:href=\"#mcdeb255b51\" y=\"195.724636\"/>\r\n     <use style=\"fill:#1f78b4;stroke:#1f78b4;\" x=\"287.111075\" xlink:href=\"#mcdeb255b51\" y=\"173.95306\"/>\r\n     <use style=\"fill:#1f78b4;stroke:#1f78b4;\" x=\"326.781818\" xlink:href=\"#mcdeb255b51\" y=\"181.857038\"/>\r\n     <use style=\"fill:#1f78b4;stroke:#1f78b4;\" x=\"245.124338\" xlink:href=\"#mcdeb255b51\" y=\"155.892465\"/>\r\n    </g>\r\n   </g>\r\n   <g id=\"patch_3\">\r\n    <path d=\"M 7.2 224.64 \r\nL 7.2 7.2 \r\n\" style=\"fill:none;stroke:#000000;stroke-linecap:square;stroke-linejoin:miter;stroke-width:0.8;\"/>\r\n   </g>\r\n   <g id=\"patch_4\">\r\n    <path d=\"M 342 224.64 \r\nL 342 7.2 \r\n\" style=\"fill:none;stroke:#000000;stroke-linecap:square;stroke-linejoin:miter;stroke-width:0.8;\"/>\r\n   </g>\r\n   <g id=\"patch_5\">\r\n    <path d=\"M 7.2 224.64 \r\nL 342 224.64 \r\n\" style=\"fill:none;stroke:#000000;stroke-linecap:square;stroke-linejoin:miter;stroke-width:0.8;\"/>\r\n   </g>\r\n   <g id=\"patch_6\">\r\n    <path d=\"M 7.2 7.2 \r\nL 342 7.2 \r\n\" style=\"fill:none;stroke:#000000;stroke-linecap:square;stroke-linejoin:miter;stroke-width:0.8;\"/>\r\n   </g>\r\n   <g id=\"text_1\">\r\n    <g clip-path=\"url(#p87d51f6ddf)\">\r\n     <!-- 0 -->\r\n     <g style=\"fill:#ffffff;\" transform=\"translate(168.909582 54.870667)scale(0.12 -0.12)\">\r\n      <defs>\r\n       <path d=\"M 2034 4250 \r\nQ 1547 4250 1301 3770 \r\nQ 1056 3291 1056 2328 \r\nQ 1056 1369 1301 889 \r\nQ 1547 409 2034 409 \r\nQ 2525 409 2770 889 \r\nQ 3016 1369 3016 2328 \r\nQ 3016 3291 2770 3770 \r\nQ 2525 4250 2034 4250 \r\nz\r\nM 2034 4750 \r\nQ 2819 4750 3233 4129 \r\nQ 3647 3509 3647 2328 \r\nQ 3647 1150 3233 529 \r\nQ 2819 -91 2034 -91 \r\nQ 1250 -91 836 529 \r\nQ 422 1150 422 2328 \r\nQ 422 3509 836 4129 \r\nQ 1250 4750 2034 4750 \r\nz\r\n\" id=\"DejaVuSans-30\" transform=\"scale(0.015625)\"/>\r\n      </defs>\r\n      <use xlink:href=\"#DejaVuSans-30\"/>\r\n     </g>\r\n    </g>\r\n   </g>\r\n   <g id=\"text_2\">\r\n    <g clip-path=\"url(#p87d51f6ddf)\">\r\n     <!-- 1 -->\r\n     <g style=\"fill:#ffffff;\" transform=\"translate(86.693381 42.625905)scale(0.12 -0.12)\">\r\n      <defs>\r\n       <path d=\"M 794 531 \r\nL 1825 531 \r\nL 1825 4091 \r\nL 703 3866 \r\nL 703 4441 \r\nL 1819 4666 \r\nL 2450 4666 \r\nL 2450 531 \r\nL 3481 531 \r\nL 3481 0 \r\nL 794 0 \r\nL 794 531 \r\nz\r\n\" id=\"DejaVuSans-31\" transform=\"scale(0.015625)\"/>\r\n      </defs>\r\n      <use xlink:href=\"#DejaVuSans-31\"/>\r\n     </g>\r\n    </g>\r\n   </g>\r\n   <g id=\"text_3\">\r\n    <g clip-path=\"url(#p87d51f6ddf)\">\r\n     <!-- 2 -->\r\n     <g style=\"fill:#ffffff;\" transform=\"translate(116.186297 34.383064)scale(0.12 -0.12)\">\r\n      <defs>\r\n       <path d=\"M 1228 531 \r\nL 3431 531 \r\nL 3431 0 \r\nL 469 0 \r\nL 469 531 \r\nQ 828 903 1448 1529 \r\nQ 2069 2156 2228 2338 \r\nQ 2531 2678 2651 2914 \r\nQ 2772 3150 2772 3378 \r\nQ 2772 3750 2511 3984 \r\nQ 2250 4219 1831 4219 \r\nQ 1534 4219 1204 4116 \r\nQ 875 4013 500 3803 \r\nL 500 4441 \r\nQ 881 4594 1212 4672 \r\nQ 1544 4750 1819 4750 \r\nQ 2544 4750 2975 4387 \r\nQ 3406 4025 3406 3419 \r\nQ 3406 3131 3298 2873 \r\nQ 3191 2616 2906 2266 \r\nQ 2828 2175 2409 1742 \r\nQ 1991 1309 1228 531 \r\nz\r\n\" id=\"DejaVuSans-32\" transform=\"scale(0.015625)\"/>\r\n      </defs>\r\n      <use xlink:href=\"#DejaVuSans-32\"/>\r\n     </g>\r\n    </g>\r\n   </g>\r\n   <g id=\"text_4\">\r\n    <g clip-path=\"url(#p87d51f6ddf)\">\r\n     <!-- 3 -->\r\n     <g style=\"fill:#ffffff;\" transform=\"translate(138.20149 55.009644)scale(0.12 -0.12)\">\r\n      <defs>\r\n       <path d=\"M 2597 2516 \r\nQ 3050 2419 3304 2112 \r\nQ 3559 1806 3559 1356 \r\nQ 3559 666 3084 287 \r\nQ 2609 -91 1734 -91 \r\nQ 1441 -91 1130 -33 \r\nQ 819 25 488 141 \r\nL 488 750 \r\nQ 750 597 1062 519 \r\nQ 1375 441 1716 441 \r\nQ 2309 441 2620 675 \r\nQ 2931 909 2931 1356 \r\nQ 2931 1769 2642 2001 \r\nQ 2353 2234 1838 2234 \r\nL 1294 2234 \r\nL 1294 2753 \r\nL 1863 2753 \r\nQ 2328 2753 2575 2939 \r\nQ 2822 3125 2822 3475 \r\nQ 2822 3834 2567 4026 \r\nQ 2313 4219 1838 4219 \r\nQ 1578 4219 1281 4162 \r\nQ 984 4106 628 3988 \r\nL 628 4550 \r\nQ 988 4650 1302 4700 \r\nQ 1616 4750 1894 4750 \r\nQ 2613 4750 3031 4423 \r\nQ 3450 4097 3450 3541 \r\nQ 3450 3153 3228 2886 \r\nQ 3006 2619 2597 2516 \r\nz\r\n\" id=\"DejaVuSans-33\" transform=\"scale(0.015625)\"/>\r\n      </defs>\r\n      <use xlink:href=\"#DejaVuSans-33\"/>\r\n     </g>\r\n    </g>\r\n   </g>\r\n   <g id=\"text_5\">\r\n    <g clip-path=\"url(#p87d51f6ddf)\">\r\n     <!-- 4 -->\r\n     <g style=\"fill:#ffffff;\" transform=\"translate(18.600682 37.868717)scale(0.12 -0.12)\">\r\n      <defs>\r\n       <path d=\"M 2419 4116 \r\nL 825 1625 \r\nL 2419 1625 \r\nL 2419 4116 \r\nz\r\nM 2253 4666 \r\nL 3047 4666 \r\nL 3047 1625 \r\nL 3713 1625 \r\nL 3713 1100 \r\nL 3047 1100 \r\nL 3047 0 \r\nL 2419 0 \r\nL 2419 1100 \r\nL 313 1100 \r\nL 313 1709 \r\nL 2253 4666 \r\nz\r\n\" id=\"DejaVuSans-34\" transform=\"scale(0.015625)\"/>\r\n      </defs>\r\n      <use xlink:href=\"#DejaVuSans-34\"/>\r\n     </g>\r\n    </g>\r\n   </g>\r\n   <g id=\"text_6\">\r\n    <g clip-path=\"url(#p87d51f6ddf)\">\r\n     <!-- 5 -->\r\n     <g style=\"fill:#ffffff;\" transform=\"translate(59.633763 20.394886)scale(0.12 -0.12)\">\r\n      <defs>\r\n       <path d=\"M 691 4666 \r\nL 3169 4666 \r\nL 3169 4134 \r\nL 1269 4134 \r\nL 1269 2991 \r\nQ 1406 3038 1543 3061 \r\nQ 1681 3084 1819 3084 \r\nQ 2600 3084 3056 2656 \r\nQ 3513 2228 3513 1497 \r\nQ 3513 744 3044 326 \r\nQ 2575 -91 1722 -91 \r\nQ 1428 -91 1123 -41 \r\nQ 819 9 494 109 \r\nL 494 744 \r\nQ 775 591 1075 516 \r\nQ 1375 441 1709 441 \r\nQ 2250 441 2565 725 \r\nQ 2881 1009 2881 1497 \r\nQ 2881 1984 2565 2268 \r\nQ 2250 2553 1709 2553 \r\nQ 1456 2553 1204 2497 \r\nQ 953 2441 691 2322 \r\nL 691 4666 \r\nz\r\n\" id=\"DejaVuSans-35\" transform=\"scale(0.015625)\"/>\r\n      </defs>\r\n      <use xlink:href=\"#DejaVuSans-35\"/>\r\n     </g>\r\n    </g>\r\n   </g>\r\n   <g id=\"text_7\">\r\n    <g clip-path=\"url(#p87d51f6ddf)\">\r\n     <!-- 6 -->\r\n     <g style=\"fill:#ffffff;\" transform=\"translate(73.240525 67.009335)scale(0.12 -0.12)\">\r\n      <defs>\r\n       <path d=\"M 2113 2584 \r\nQ 1688 2584 1439 2293 \r\nQ 1191 2003 1191 1497 \r\nQ 1191 994 1439 701 \r\nQ 1688 409 2113 409 \r\nQ 2538 409 2786 701 \r\nQ 3034 994 3034 1497 \r\nQ 3034 2003 2786 2293 \r\nQ 2538 2584 2113 2584 \r\nz\r\nM 3366 4563 \r\nL 3366 3988 \r\nQ 3128 4100 2886 4159 \r\nQ 2644 4219 2406 4219 \r\nQ 1781 4219 1451 3797 \r\nQ 1122 3375 1075 2522 \r\nQ 1259 2794 1537 2939 \r\nQ 1816 3084 2150 3084 \r\nQ 2853 3084 3261 2657 \r\nQ 3669 2231 3669 1497 \r\nQ 3669 778 3244 343 \r\nQ 2819 -91 2113 -91 \r\nQ 1303 -91 875 529 \r\nQ 447 1150 447 2328 \r\nQ 447 3434 972 4092 \r\nQ 1497 4750 2381 4750 \r\nQ 2619 4750 2861 4703 \r\nQ 3103 4656 3366 4563 \r\nz\r\n\" id=\"DejaVuSans-36\" transform=\"scale(0.015625)\"/>\r\n      </defs>\r\n      <use xlink:href=\"#DejaVuSans-36\"/>\r\n     </g>\r\n    </g>\r\n   </g>\r\n   <g id=\"text_8\">\r\n    <g clip-path=\"url(#p87d51f6ddf)\">\r\n     <!-- 7 -->\r\n     <g style=\"fill:#ffffff;\" transform=\"translate(157.295843 98.698597)scale(0.12 -0.12)\">\r\n      <defs>\r\n       <path d=\"M 525 4666 \r\nL 3525 4666 \r\nL 3525 4397 \r\nL 1831 0 \r\nL 1172 0 \r\nL 2766 4134 \r\nL 525 4134 \r\nL 525 4666 \r\nz\r\n\" id=\"DejaVuSans-37\" transform=\"scale(0.015625)\"/>\r\n      </defs>\r\n      <use xlink:href=\"#DejaVuSans-37\"/>\r\n     </g>\r\n    </g>\r\n   </g>\r\n   <g id=\"text_9\">\r\n    <g clip-path=\"url(#p87d51f6ddf)\">\r\n     <!-- 8 -->\r\n     <g style=\"fill:#ffffff;\" transform=\"translate(107.69605 86.125013)scale(0.12 -0.12)\">\r\n      <defs>\r\n       <path d=\"M 2034 2216 \r\nQ 1584 2216 1326 1975 \r\nQ 1069 1734 1069 1313 \r\nQ 1069 891 1326 650 \r\nQ 1584 409 2034 409 \r\nQ 2484 409 2743 651 \r\nQ 3003 894 3003 1313 \r\nQ 3003 1734 2745 1975 \r\nQ 2488 2216 2034 2216 \r\nz\r\nM 1403 2484 \r\nQ 997 2584 770 2862 \r\nQ 544 3141 544 3541 \r\nQ 544 4100 942 4425 \r\nQ 1341 4750 2034 4750 \r\nQ 2731 4750 3128 4425 \r\nQ 3525 4100 3525 3541 \r\nQ 3525 3141 3298 2862 \r\nQ 3072 2584 2669 2484 \r\nQ 3125 2378 3379 2068 \r\nQ 3634 1759 3634 1313 \r\nQ 3634 634 3220 271 \r\nQ 2806 -91 2034 -91 \r\nQ 1263 -91 848 271 \r\nQ 434 634 434 1313 \r\nQ 434 1759 690 2068 \r\nQ 947 2378 1403 2484 \r\nz\r\nM 1172 3481 \r\nQ 1172 3119 1398 2916 \r\nQ 1625 2713 2034 2713 \r\nQ 2441 2713 2670 2916 \r\nQ 2900 3119 2900 3481 \r\nQ 2900 3844 2670 4047 \r\nQ 2441 4250 2034 4250 \r\nQ 1625 4250 1398 4047 \r\nQ 1172 3844 1172 3481 \r\nz\r\n\" id=\"DejaVuSans-38\" transform=\"scale(0.015625)\"/>\r\n      </defs>\r\n      <use xlink:href=\"#DejaVuSans-38\"/>\r\n     </g>\r\n    </g>\r\n   </g>\r\n   <g id=\"text_10\">\r\n    <g clip-path=\"url(#p87d51f6ddf)\">\r\n     <!-- 9 -->\r\n     <g style=\"fill:#ffffff;\" transform=\"translate(100.991009 60.495896)scale(0.12 -0.12)\">\r\n      <defs>\r\n       <path d=\"M 703 97 \r\nL 703 672 \r\nQ 941 559 1184 500 \r\nQ 1428 441 1663 441 \r\nQ 2288 441 2617 861 \r\nQ 2947 1281 2994 2138 \r\nQ 2813 1869 2534 1725 \r\nQ 2256 1581 1919 1581 \r\nQ 1219 1581 811 2004 \r\nQ 403 2428 403 3163 \r\nQ 403 3881 828 4315 \r\nQ 1253 4750 1959 4750 \r\nQ 2769 4750 3195 4129 \r\nQ 3622 3509 3622 2328 \r\nQ 3622 1225 3098 567 \r\nQ 2575 -91 1691 -91 \r\nQ 1453 -91 1209 -44 \r\nQ 966 3 703 97 \r\nz\r\nM 1959 2075 \r\nQ 2384 2075 2632 2365 \r\nQ 2881 2656 2881 3163 \r\nQ 2881 3666 2632 3958 \r\nQ 2384 4250 1959 4250 \r\nQ 1534 4250 1286 3958 \r\nQ 1038 3666 1038 3163 \r\nQ 1038 2656 1286 2365 \r\nQ 1534 2075 1959 2075 \r\nz\r\n\" id=\"DejaVuSans-39\" transform=\"scale(0.015625)\"/>\r\n      </defs>\r\n      <use xlink:href=\"#DejaVuSans-39\"/>\r\n     </g>\r\n    </g>\r\n   </g>\r\n   <g id=\"text_11\">\r\n    <g clip-path=\"url(#p87d51f6ddf)\">\r\n     <!-- 10 -->\r\n     <g style=\"fill:#ffffff;\" transform=\"translate(275.771229 196.975586)scale(0.12 -0.12)\">\r\n      <use xlink:href=\"#DejaVuSans-31\"/>\r\n      <use x=\"63.623047\" xlink:href=\"#DejaVuSans-30\"/>\r\n     </g>\r\n    </g>\r\n   </g>\r\n   <g id=\"text_12\">\r\n    <g clip-path=\"url(#p87d51f6ddf)\">\r\n     <!-- 11 -->\r\n     <g style=\"fill:#ffffff;\" transform=\"translate(305.060491 218.067614)scale(0.12 -0.12)\">\r\n      <use xlink:href=\"#DejaVuSans-31\"/>\r\n      <use x=\"63.623047\" xlink:href=\"#DejaVuSans-31\"/>\r\n     </g>\r\n    </g>\r\n   </g>\r\n   <g id=\"text_13\">\r\n    <g clip-path=\"url(#p87d51f6ddf)\">\r\n     <!-- 12 -->\r\n     <g style=\"fill:#ffffff;\" transform=\"translate(244.363487 199.035886)scale(0.12 -0.12)\">\r\n      <use xlink:href=\"#DejaVuSans-31\"/>\r\n      <use x=\"63.623047\" xlink:href=\"#DejaVuSans-32\"/>\r\n     </g>\r\n    </g>\r\n   </g>\r\n   <g id=\"text_14\">\r\n    <g clip-path=\"url(#p87d51f6ddf)\">\r\n     <!-- 13 -->\r\n     <g style=\"fill:#ffffff;\" transform=\"translate(279.476075 177.26431)scale(0.12 -0.12)\">\r\n      <use xlink:href=\"#DejaVuSans-31\"/>\r\n      <use x=\"63.623047\" xlink:href=\"#DejaVuSans-33\"/>\r\n     </g>\r\n    </g>\r\n   </g>\r\n   <g id=\"text_15\">\r\n    <g clip-path=\"url(#p87d51f6ddf)\">\r\n     <!-- 14 -->\r\n     <g style=\"fill:#ffffff;\" transform=\"translate(319.146818 185.168288)scale(0.12 -0.12)\">\r\n      <use xlink:href=\"#DejaVuSans-31\"/>\r\n      <use x=\"63.623047\" xlink:href=\"#DejaVuSans-34\"/>\r\n     </g>\r\n    </g>\r\n   </g>\r\n   <g id=\"text_16\">\r\n    <g clip-path=\"url(#p87d51f6ddf)\">\r\n     <!-- 15 -->\r\n     <g style=\"fill:#ffffff;\" transform=\"translate(237.489338 159.203715)scale(0.12 -0.12)\">\r\n      <use xlink:href=\"#DejaVuSans-31\"/>\r\n      <use x=\"63.623047\" xlink:href=\"#DejaVuSans-35\"/>\r\n     </g>\r\n    </g>\r\n   </g>\r\n  </g>\r\n </g>\r\n <defs>\r\n  <clipPath id=\"p87d51f6ddf\">\r\n   <rect height=\"217.44\" width=\"334.8\" x=\"7.2\" y=\"7.2\"/>\r\n  </clipPath>\r\n </defs>\r\n</svg>\r\n",
      "image/png": "[encoded data removed]"
     },
     "metadata": {}
    }
   ],
   "source": [
    "import matplotlib.pyplot as plt\n",
    "def test_load():\n",
    "    network = load_unweighted_network(\"data/toy-nodes.csv\", \"data/toy-edges.csv\")\n",
    "    nx.draw_networkx(network,font_color='white')\n",
    "    plt.show()\n",
    "\n",
    "test_load()"
   ]
  },
  {
   "cell_type": "markdown",
   "metadata": {
    "id": "6UTIxaGIXGzz"
   },
   "source": [
    "### 1.2  Modularité / Modularity (2 point)\n",
    "\n",
    "La modularité $Q$ du réseau est une mesure importante pour l'algorithme: elle permet de savoir si l'algorithme a atteint un optimum local. $$ Q=\\frac{1}{2m}\\sum_{u,v=1}^n B_{uv}\\delta(l_u,l_v)$$ \n",
    "\n",
    "- m: le nombre d'arêtes\n",
    "- l: l'étiquette du sommet\n",
    "- u, v: des sommets dans le réseau\n",
    "- B: la matrice de modularité où chaque élément vaut $A_{uv} - P_{uv}$\n",
    "- $A_{uv}$: vaut 1 si il y une arête entre u et v sinon 0\n",
    "- $P_{uv}$: la probabilité qu'il y ait une arête entre u et v selon le modèle nul  $$P_{uv}=\\frac{degree(u)*degree(v)}{2m}$$\n",
    "- $\\delta(l_u,l_v)$: delta de Kronecker, vaut 1 si les deux labels sont identiques sinon 0\n",
    "\n",
    "#### Implémentation\n",
    "1. Implémentez  la fonction  `modularity`  dans LPAmPlus. Cette fonction retourne la modularité du réseau. Vous pouvez utiliser la fonction `nx.linalg.modularity_matrix` de networkx pour calculer la matrice B. **N.B:** Networkx permet d'ajouter du data sur les sommets pour garder des informations sur le node. Les nodes agissent comme des dictionnaires.\n",
    "\n",
    "Utilisez la fonction `test_modularity` pour vérifier votre implémentation de la fonction. Vous devriez obtenir une modularité d'environ 0.413.\n",
    "\n",
    "---\n",
    "\n",
    "The modularity $Q$ of the network is an important measure for the algorithm. The algorithm uses it to determine if it reached a local optimum or not. $$ Q=\\frac{1}{2m}\\sum_{u,v=1}^n B_{uv}\\delta(l_u,l_v)$$ \n",
    "\n",
    "- m: number of edges\n",
    "- l: node's label\n",
    "- u, v: nodes in the graph\n",
    "- B: modularity matrix where each element is $A_{uv} - P_{uv}$\n",
    "- $A_{uv}$: is 1 if there is an edge between u and v else 0\n",
    "- $P_{uv}$: probability that there is an edge between u and v following the null model $$P_{uv}=\\frac{degree(u)*degree(v)}{2m}$$\n",
    "- $\\delta(l_u,l_v)$: Kronecker's delta, is 1 if labels are the same else 0\n",
    "\n",
    "#### Implementation\n",
    "1. Implement the function `modularity` in the class LPAmPlus. This function returns the modularity of the network. You can use the function `nx.linalg.modularity_matrix` from networkx to calculate B. **N.B:** You can add data to nodes with Networkx to store information about the node. You can add data to nodes with Networkx to store information about the node. The nodes act like a dictionnary.\n",
    "\n",
    "Use the function `test_modularity` to test your implementation. You should have a modularity of 0.413."
   ]
  },
  {
   "cell_type": "markdown",
   "metadata": {
    "id": "t8iBYh5ohman"
   },
   "source": []
  },
  {
   "cell_type": "code",
   "execution_count": 5,
   "metadata": {
    "id": "B7szMoEQSriF"
   },
   "outputs": [
    {
     "output_type": "stream",
     "name": "stdout",
     "text": [
      "Modularity: 0.413\n"
     ]
    }
   ],
   "source": [
    "def test_modularity():\n",
    "    social_network = load_unweighted_network(\"data/toy-nodes.csv\", \"data/toy-edges.csv\")\n",
    "    lpam = LPAmPlus(social_network)\n",
    "    lpam.labels = [0, 1]\n",
    "    for i in [0,1,2,3,4,5,6,7,8,9]:\n",
    "        lpam.graph.nodes[i]['label'] = 0\n",
    "    for i in [10,11,12,13,14,15]:\n",
    "        lpam.graph.nodes[i]['label'] = 1\n",
    "    print(\"Modularity: {:.3f}\".format(lpam.modularity()))\n",
    "\n",
    "test_modularity()"
   ]
  },
  {
   "cell_type": "markdown",
   "metadata": {
    "id": "vwxvqYj4XGzu"
   },
   "source": [
    "### 1.3 Règle de modification des étiquettes / Updating rule for the labels (3 point)\n",
    "\n",
    "Comme mentionné plus haut, l'algorithme est fortement basé sur son optimisation de la modularité. Il vous est maintenant demandé d'implémenter le terme à optimiser. La nouvelle étiquette $l_x^{new}$ correspond à l'étiquette pour laquelle la somme donne la plus grande valeur.\n",
    "$$l_x^{new}=\\arg\\max_l\\sum_{u=1}^n B_{ux}\\delta(l_u,l)$$\n",
    "\n",
    "- n: le nombre de sommets\n",
    "- m: le nombre d'arêtes\n",
    "- l: une étiquette possible pour le sommet x\n",
    "- x: le sommet qu'on évalue en ce moment\n",
    "- u: un autre sommet dans le réseau (commence à 1, car on exclut le sommet x)\n",
    "- B: la matrice de modularité où chaque élément vaut $A_{ux} - P_{ux}$\n",
    "- $A_{ux}$: vaut 1 si il y une arête entre u et x sinon 0\n",
    "- $P_{ux}$: la probabilité qu'il y ait une arête entre u et x selon le modèle nul  $$P_{ux}=\\frac{degree(u)*degree(x)}{2m}$$\n",
    "- $\\delta(l_u,l)$: delta de Kronecker, vaut 1 si les deux labels sont identiques sinon 0\n",
    "\n",
    "\n",
    "#### Implémentation\n",
    "1. Implémenter la fonction `label_evaluation`. Cette fonction retourne la valeur du terme à optimiser. Vous pouvez utiliser la fonction `linalg.modularity_matrix` de networkx pour calculer la matrice B. Il est normal qu'il y ait une ressemblance avec le calcul de la modularité selon la définition que vous avez prise. `new_label` correspond donc à un $l$ possible dans le terme.\n",
    "2. Implémenter la fonction `update_label`. Cette fonction choisit la nouvelle étiquette pour le sommet actuel. En cas d'égalité, la fonction choisit une étiquette au hasard parmi les meilleurs. N'oubliez pas d'enlever les étiquettes désuètes du paramètre `labels`. **N.B:** Il est possible que la meilleure étiquette soit celle actuelle du sommet.\n",
    "\n",
    "Networkx permet d'ajouter du data sur les sommets. Les sommets sont des dictionnaires dans le graphe.\n",
    "\n",
    "---\n",
    "\n",
    "As mentioned above, the algorithm is strongly based on its optimization of modularity. You are now asked to implement the term to optimize. The new label $l_x^{new}$ corresponds to the label for which the sum gives the greatest value.\n",
    "$$l_x^{new}=\\arg\\max_l\\sum_{u=1}^n B_{ux}\\delta(l_u,l)$$\n",
    "\n",
    "- n: number of nodes\n",
    "- m: number of edges\n",
    "- l: a possible label for the node x\n",
    "- x: current node being evaluated\n",
    "- u: another node in the network (starts at 1, because we exclude the node x)\n",
    "- B: modularity matrix where each element is $A_{ux} - P_{ux}$\n",
    "- $A_{ux}$: is 1 if there is an edge between u and x else 0\n",
    "- $P_{ux}$: the probability that there is an edge between u and x  following the null model  $$P_{ux}=\\frac{degree(u)*degree(x)}{2m}$$\n",
    "- $\\delta(l_u,l)$: Kronecker's delta, is 1 if labels are the same else 0\n",
    "\n",
    "\n",
    "#### Implementation\n",
    "1. Implement the function `label_evaluation`. This function returns the value for the term to optimize. You can use the function `linalg.modularity_matrix` from networkx to calculate B. It is normal if there is a similarity with the modularity depending on the definition you took. `new_label` represent a possible $l$ in the term.\n",
    "2. Implement the function `update_label`. This function chooses the new label for the current node. If there is more than one label with the max value, the function chooses randomly one amoung those. Don't forget to remove the unused labels from the `labels` attribute. **N.B:** The best label can be the node's current label. \n",
    "\n",
    "You can add data to nodes with Networkx to store information about the node. The nodes act like a dictionnary.\n",
    "\n"
   ]
  },
  {
   "cell_type": "markdown",
   "metadata": {
    "id": "g5_N31uPXGz2"
   },
   "source": [
    "### 1.4 LPAm (2 points)\n",
    "\n",
    "Vous pouvez maintenant implémenter l'algorithme LPAm. Cet algorithme est le prédécesseur de LPAm+ puisque LPAm+ a été crée pour contourner une faiblesse de LPAm.  LPAm est un algorithme de propapagation d'étiquettes basé sur la modularité. Il commence par donner une étiquette unique à chaque sommet. Il explore par la suite tous les sommets et change leur étiquette selon la fonction d'évaluation que vous avez implémentée plus tôt. L'algorithme continue la propagation d'étiquette à travers tous les sommets jusqu'à un optimun de la modularité.\n",
    "\n",
    "#### Implémentation\n",
    "1. Ajouter les étiquettes initiales aux sommets du graphe dans la fonction `__init__`. Il faut que chaque sommet soit dans sa propre communauté au début de l'algorithme. Initialiser le paramètre `labels` pour qu'il contient la liste des étiquettes présentes dans le réseau.\n",
    "\n",
    "2. Implémenter l'algorithme LPAm dans la fonction `LPAm`. Assurez-vous de toujours augmenter la modularité lors de vos changements d'étiquettes. N'oubliez pas de garder le paramètre `labels` à jour à fur et à mesure lors de vos changements pour ne pas évaluer plusieurs fois la même étiquette.\n",
    "\n",
    "Utilisez la fonction `test_lpam` pour vérifier votre implémentation. Vous devriez finir avec une modularité d'environ 0.399 avec 4 communautés.\n",
    "\n",
    "---\n",
    "\n",
    "You can now implement the LPAm algorithm. This algorithm is the predecessor of LPAm+ since LPAm+ was created to overcome LPAm's weakness. LPAm is a label probagation algorithm based on modularity. It begins by giving a unique label to each node. It then explores all the nodes and changes their label according to the evaluation function that you implemented earlier. The algorithm continues until it can no longer improve the modularity of the network.\n",
    "\n",
    "#### Implementation\n",
    "1. Add the initial labels to the nodes in the graph in the function `__init__`. Each nodes has to be in their own community in the beginning. Initialise `labels` with the current list of labels present in the graph.\n",
    "\n",
    "2. Implement the LPAm algorithm in the function`LPAm`. Make sure that all your labels changes improve the modularity. Don't forget to keep your `labels` parameter is kept up-to-date so that you dont evaluate the same label multiple times or unused labels.\n",
    "\n",
    "Use the function `test_lpam` to verify your implementation. You should have a modularity of 0.399 with 4 communities."
   ]
  },
  {
   "cell_type": "code",
   "execution_count": 6,
   "metadata": {
    "id": "O2RfrO6PSriL"
   },
   "outputs": [
    {
     "output_type": "stream",
     "name": "stdout",
     "text": [
      "Modularity: 0.399\nCommunities: [3, 5, 8, 11]\n"
     ]
    }
   ],
   "source": [
    "def test_lpam():\n",
    "    social_network = load_unweighted_network(\"data/toy-nodes.csv\", \"data/toy-edges.csv\")\n",
    "    lpam = LPAmPlus(social_network)\n",
    "    lpam.LPAm()\n",
    "    print(\"Modularity: {:.3f}\\nCommunities: {}\".format(lpam.modularity(), lpam.labels))\n",
    "\n",
    "test_lpam()"
   ]
  },
  {
   "cell_type": "markdown",
   "metadata": {
    "id": "cj5Ghd5jXGz6"
   },
   "source": [
    "### 1.5 LPAm+ (3 point)\n",
    "\n",
    "Vous pouvez maintenant implémenter LPAm+ au complet. LPAm+ est une amélioration de LPAm. Lorsque LPAm tombe dans un optimum local, LPAm+ essaye de combiner deux communautés pour augmenter la modularité et ainsi sortir du optimum local. LPAm+ choisit la combinaison qui augmente le plus la modularité et recommence la propagation d'étiquette jusqu'au prochain optimum local où il va reessayer de combiner des communautés. L'algorithme continue jusqu'à qu'il ne peut plus augmenter la modularité.\n",
    "\n",
    "#### Implémentation\n",
    "1. Implémentez  la fonction  `merge_communities`. Cette fonction regarde si combiner des communautés augmente la modularité et combine le meilleur choix. Elle retourne True si une combinaison a été faite sinon False (aucune combinaison augmente la modularité).\n",
    "2. Implémenter `find_communities`. Cette fonction applique l'algorithme LPAm+ sur le réseau en utilisant les fonctions `LPAm` et `merge_communities`.\n",
    "\n",
    "Utilisez la fonction `test_lpam_plus` pour vérifier votre implémentation. Vous devriez finir avec une modularité d'environ 0.413 et 2 communautés.\n",
    "\n",
    "---\n",
    "\n",
    "You can now fully implement LPAm+. As said before LPAm+ is an amelioration of LPAm. The issue with LPAm is that it stops when it finds a local optimun. To prevent that, LPAm+ tries to combine two communities to increase modularity and escape the local optimun. LPAm+ chooses the combination that most increases modularity and restart the label's propagation until the next local optimum where it will try to combine two communities again. The algorithm continues until it can no longer increase modularity.\n",
    "\n",
    "#### Implementation\n",
    "1. Implement the function  `merge_communities`. This function check if combining communities improve the modularity and combine the best choice. It returns True if a combinaison was made else False (no combination increase the modularity).\n",
    "2. Implement the LPAM+ algorithm in the function `find_communities` using the fonctions `LPam` and `merge_communities`.\n",
    "\n",
    "Use the function `test_lpam_plus` to verify your implementation. You should end with a modularity of 0.413 and 2 communities."
   ]
  },
  {
   "cell_type": "code",
   "execution_count": 7,
   "metadata": {
    "id": "eVSnUWQoSriP"
   },
   "outputs": [
    {
     "output_type": "stream",
     "name": "stdout",
     "text": [
      "Modularity: 0.413\nCommunities: [8, 13]\n"
     ]
    }
   ],
   "source": [
    "def test_lpam_plus():\n",
    "    social_network = load_unweighted_network(\"data/toy-nodes.csv\", \"data/toy-edges.csv\")\n",
    "    lpam = LPAmPlus(social_network)\n",
    "    lpam.find_communities()\n",
    "    print(\"Modularity: {:.3f}\\nCommunities: {}\".format(lpam.modularity(), lpam.labels))\n",
    "\n",
    "test_lpam_plus()"
   ]
  },
  {
   "cell_type": "markdown",
   "metadata": {
    "id": "vODCJbRaXGz-"
   },
   "source": [
    "### 1.6 GOT dataset (3 points)\n",
    "\n",
    "Rouler votre algorithme sur les données de Games of Thrones de chaque saison et comparer ce que vous obtenez et les vraies communautés. Le ground truth se trouve dans la colonne Community des csv. Des liens sont présents entre des personnages lorsque: \n",
    "- Personnage A parle directement après Personnage B\n",
    "- Personnage A parle de Personnage B\n",
    "- Personnage C parle de Personnage A et Personnage B\n",
    "- Personnage A et Personnage B font une action ensemble dans une scène (ex: quittent les lieux, A regarde B, sont assis à une table, etc)\n",
    "- Personnage A et Personnage B apparaissent ensemble dans une scène\n",
    "\n",
    "Commencez par calculer le RI (Rand index) de vos résultats. $$ RI=\\frac{TP+TN}{TP+TN+FP+FN} = \\frac{TP+TN}{\\binom{n}{2}}$$\n",
    "\n",
    "- n: le nombre de sommets\n",
    "- TP: True positive soit le nombre de paires d'éléments qui se trouvent dans la même communauté dans vos résultats et dans le ground truth\n",
    "- TN: True négative soit le nombre de paires d'éléments qui se trouvent dans des communautés différentes dans vos résultats et dans le ground truth\n",
    "- FP: False positive soit le nombre de paires d'éléments qui se trouvent dans la même communauté dans vos résultats mais qui sont dans des communautés différentes dans le ground truth\n",
    "- FN: False négative soit le nombre de paires d'éléments qui se trouvent dans des communautés différentes alors qu'ils sont dans la même communauté dans le ground truth\n",
    "\n",
    "\n",
    "**N.B**: Ce n'est pas le nom des communautés que vous avez trouvé qui importante mais leur composition. Autrement dit, un TP est si le sommet a et le sommet b se trouve dans la même communauté dans vos résultats et dans le ground truth.\n",
    "\n",
    "\n",
    "Répondez aux questions suivantes. Elles servent comme piste de réflexion pour votre analyse.\n",
    "\n",
    "- L'algorithme performe-t-il bien sur toutes les saisons ou pour certaines seulement? \n",
    "- Expliquez pourquoi vous avez obtenu ces résultats en analysant la formation des communautés dans chaque saison. Quelles particularités favorisent des bons résultats? Quelles particularités nuisent à l'algorithme?\n",
    "\n",
    "Vous pouvez faire les manipulations que vous voulez pour mieux présenter vos résultats et mieux appuyer vos affirmations. \n",
    "\n",
    "---\n",
    "\n",
    "Run your algorithm over the Games of Thrones data from each season and compare what you get and the real communities. The ground truth is found in the Community column in the csv. Links are found between characters A and B when:\n",
    "- Character A talks directly after Character B\n",
    "- Character A talks about Character B\n",
    "- Character C talks about Character B and A\n",
    "- Character A and Character B does an action together in a scene (ex: leave the room, A looks toward B, are seated together at a table, etc)\n",
    "- Character A and Character B are both present in a scene\n",
    "\n",
    "Start by calculating the RI (Rand index) of your results. $$ RI=\\frac{TP+TN}{TP+TN+FP+FN} = \\frac{TP+TN}{\\binom{n}{2}}$$\n",
    "\n",
    "- n: number of nodes\n",
    "- TP: True positive the number of pairs of elements that are in the same community in your results and in the ground truth\n",
    "- TN: True negative the number of pairs of elements that are in different communities in your results and in the ground truth\n",
    "- FP: False positive the number of pairs of elements which are in the same community in your results but which are in different communities in the ground truth\n",
    "- FN: False negative the number of pairs of elements which are in different communities in your results but which are in the same community in the ground truth\n",
    "\n",
    "**N.B:** What matters here is the composition of the communities you found not the names. A TP is when the node a and the node b are both in the same communities in your result and in the ground truth.\n",
    "\n",
    "Answer the following questions. They are guides for your analysis.\n",
    "\n",
    "- Does the algorithm perform well on all seasons or for some only? \n",
    "- Explain why you obtained those results by analysing the communities from each season. Which particularities offer better results? Which hinder the algorithm?\n",
    "\n",
    "You can do the manipulations you want to better present your results and better support your statements."
   ]
  },
  {
   "cell_type": "markdown",
   "metadata": {
    "id": "ZzndRBWVSriT"
   },
   "source": [
    "#### Résultats / Results"
   ]
  },
  {
   "cell_type": "code",
   "execution_count": 8,
   "metadata": {},
   "outputs": [],
   "source": [
    "def calc_RI(lpam):\n",
    "\n",
    "    TP = 0\n",
    "    TN = 0\n",
    "    FP = 0\n",
    "    FN = 0\n",
    "    \n",
    "    for node_i in lpam.graph.nodes(data=True):\n",
    "        name_i = node_i[0]\n",
    "        community_i = node_i[1]['Community']\n",
    "        label_i = node_i[1]['label']\n",
    "        \n",
    "        for node_j in lpam.graph.nodes(data=True):\n",
    "            name_j = node_j[0]\n",
    "            \n",
    "            if name_i != name_j:\n",
    "                community_j = node_j[1]['Community']\n",
    "                label_j = node_j[1]['label']\n",
    "                same_community = (community_i == community_j)\n",
    "                same_label = (label_i == label_j)\n",
    "                \n",
    "                if same_community and same_label:\n",
    "                    TP += 1\n",
    "                elif not(same_community) and not(same_label):\n",
    "                    TN += 1\n",
    "                elif not(same_community) and same_label:\n",
    "                    FP += 1\n",
    "                else:\n",
    "                    FN += 1\n",
    "\n",
    "    RI = (TP + TN)/(TP+TN+FP+FN)\n",
    "    \n",
    "    return([TP, TN, FP, FN], RI)\n",
    "\n",
    "def run_lpam_for_season(season):\n",
    "    \n",
    "    social_network = load_unweighted_network(\"data/got-s\"+str(season)+\"-nodes.csv\", \"data/got-s\"+str(season)+\"-edges.csv\")\n",
    "    lpam = LPAmPlus(social_network)\n",
    "    lpam.find_communities()\n",
    "    \n",
    "    return(lpam)"
   ]
  },
  {
   "cell_type": "code",
   "execution_count": 13,
   "metadata": {},
   "outputs": [
    {
     "name": "stdout",
     "output_type": "stream",
     "text": [
      "Season1\n",
      "Stat [3144, 11962, 490, 154]\n",
      "RI 0.9591111111111111\n",
      "---------------------------------------------------------\n",
      "Season2\n",
      "Stat [2702, 13330, 244, 236]\n",
      "RI 0.9709302325581395\n",
      "---------------------------------------------------------\n",
      "Season3\n",
      "Stat [1974, 12190, 786, 56]\n",
      "RI 0.9438891110222578\n",
      "---------------------------------------------------------\n",
      "Season4\n",
      "Stat [4038, 23130, 1544, 358]\n",
      "RI 0.9345717234262126\n",
      "---------------------------------------------------------\n",
      "Season5\n",
      "Stat [2556, 11258, 70, 158]\n",
      "RI 0.9837629967241134\n",
      "---------------------------------------------------------\n",
      "Season6\n",
      "Stat [2556, 16590, 446, 430]\n",
      "RI 0.9562481270602338\n",
      "---------------------------------------------------------\n",
      "Season7\n",
      "Stat [988, 4454, 376, 662]\n",
      "RI 0.8398148148148148\n",
      "---------------------------------------------------------\n",
      "Season8\n",
      "Stat [998, 1936, 248, 2220]\n",
      "RI 0.5431321732691595\n",
      "---------------------------------------------------------\n"
     ]
    }
   ],
   "source": [
    "lpam_Got = []\n",
    "stats_Got = []\n",
    "for season in range(1, 9):\n",
    "    lpam_season = run_lpam_for_season(season)\n",
    "    stat, RI = calc_RI(lpam_season)\n",
    "    print(\"Season\" + str(season))\n",
    "    print(\"Stat\", stat)\n",
    "    print(\"RI\", RI)\n",
    "    print(\"---------------------------------------------------------\")\n",
    "    lpam_Got.append([lpam_season])\n",
    "    stats_Got.append([stat, RI])"
   ]
  },
  {
   "cell_type": "code",
   "execution_count": null,
   "metadata": {},
   "outputs": [],
   "source": [
    "\"\"\"\n",
    "Ce qu'il y a après n'est pas fini, \n",
    "c'est pour voir ce que je peux tirer des données\n",
    "\"\"\""
   ]
  },
  {
   "cell_type": "code",
   "execution_count": 90,
   "metadata": {},
   "outputs": [],
   "source": [
    "def run_lpam_for_season(season):\n",
    "    \n",
    "    social_network = load_unweighted_network(\"data/got-s\"+str(season)+\"-nodes.csv\", \"data/got-s\"+str(season)+\"-edges.csv\")\n",
    "    lpam = LPAmPlus(social_network)\n",
    "    lpam.find_communities()\n",
    "    \n",
    "    return(lpam)\n",
    "\n",
    "def get_communities(lpam):\n",
    "    \n",
    "    all_communities = []\n",
    "\n",
    "    for node in lpam.graph.nodes(data=True):\n",
    "        if(node[1]['Community'] not in all_communities):\n",
    "            all_communities.append(node[1]['Community'])\n",
    "    \n",
    "    return(all_communities)\n",
    "\n",
    "def calc_matrice_correspondance(lpam, all_communities):\n",
    "    \n",
    "    nb_commu = len(all_communities)\n",
    "    matrice_corespondance = np.zeros((nb_commu, nb_commu))\n",
    "\n",
    "    for node in lpam.graph.nodes(data=True):\n",
    "        index_commu = all_communities.index(node[1]['Community'])\n",
    "        index_label = lpam.labels.index(node[1]['label'])\n",
    "        matrice_corespondance[index_label, index_commu] += 1\n",
    "        \n",
    "    return(matrice_corespondance)\n",
    "\n",
    "def table_lien_label_commu(matrice_corespondance, labels, all_communities):\n",
    "    \n",
    "    list_commu = []\n",
    "    \n",
    "    for label_index, label_list in enumerate(matrice_corespondance):\n",
    "        #commu_index = label_list.index(max(label_list))\n",
    "        commu_index = np.argmax(label_list)\n",
    "        commu = all_communities[commu_index]\n",
    "        if(label_index < len(labels)):\n",
    "            label = labels[label_index]\n",
    "        else:\n",
    "            label = 'IND'\n",
    "        list_commu.append([label, commu])\n",
    "        \n",
    "    return list_commu"
   ]
  },
  {
   "cell_type": "code",
   "execution_count": null,
   "metadata": {},
   "outputs": [],
   "source": [
    "lpam_season_1 = run_lpam_for_season(1)"
   ]
  },
  {
   "cell_type": "code",
   "execution_count": 71,
   "metadata": {
    "id": "1-2UipMRXG0R"
   },
   "outputs": [
    {
     "name": "stdout",
     "output_type": "stream",
     "text": [
      "['Lannister', 'Night Watch', \"King's Landing\", 'Stark', 'Dothraki', 'Doomed Night Watch', 'Orphan']\n",
      "[64, 78, 90, 98, 111, 121]\n",
      "[[ 0.  0.  0.  0. 17.  0.  0.]\n",
      " [ 0. 18.  0.  0.  0.  0.  0.]\n",
      " [ 0.  1.  3.  1.  0.  0.  0.]\n",
      " [ 0.  0.  0.  0.  0.  4.  0.]\n",
      " [ 1.  0. 40.  1.  0.  0.  2.]\n",
      " [16.  0.  1. 21.  0.  0.  0.]\n",
      " [ 0.  0.  0.  0.  0.  0.  0.]]\n"
     ]
    }
   ],
   "source": [
    "# Mettez votre code ici\n",
    "all_communities_season_1 = get_communities(lpam_season_1)\n",
    "print(all_communities_season_1)\n",
    "\n",
    "nb_commu = len(all_communities_season_1)\n",
    "print(lpam_season_1.labels)\n",
    "matrice_corespondance = np.zeros((nb_commu, nb_commu))\n",
    "\n",
    "for node in lpam_season_1.graph.nodes(data=True):\n",
    "    index_commu = all_communities_season_1.index(node[1]['Community'])\n",
    "    index_label = lpam_season_1.labels.index(node[1]['label'])\n",
    "    matrice_corespondance[index_label, index_commu] += 1\n",
    "print(matrice_corespondance)"
   ]
  },
  {
   "cell_type": "code",
   "execution_count": 84,
   "metadata": {},
   "outputs": [],
   "source": [
    "lpam_Got = run_lpam_for_season(2)"
   ]
  },
  {
   "cell_type": "code",
   "execution_count": 92,
   "metadata": {},
   "outputs": [
    {
     "name": "stdout",
     "output_type": "stream",
     "text": [
      "[70, 89, 93, 98, 123, 126] \n",
      "\n",
      "['Harenhall', 'Riverlands and Stormlands', 'Iron Islands and Winterfell', \"King's Landing\", 'Far North', 'Red Waste and Qarth', 'Janos'] \n",
      "\n",
      "[[ 0. 28.  0.  1.  0.  0.  0.]\n",
      " [ 0.  0.  0.  0. 14.  0.  0.]\n",
      " [ 0.  0.  0.  0.  0. 14.  0.]\n",
      " [ 0.  2.  0. 31.  0.  0.  1.]\n",
      " [20.  0.  0.  0.  0.  0.  0.]\n",
      " [ 0.  1. 17.  0.  0.  0.  0.]\n",
      " [ 0.  0.  0.  0.  0.  0.  0.]] \n",
      "\n",
      "[[70, 'Riverlands and Stormlands'], [89, 'Far North'], [93, 'Red Waste and Qarth'], [98, \"King's Landing\"], [123, 'Harenhall'], [126, 'Iron Islands and Winterfell'], ['IND', 'Harenhall']] \n",
      "\n"
     ]
    }
   ],
   "source": [
    "labels = lpam_Got.labels\n",
    "print(labels, \"\\n\")\n",
    "\n",
    "all_communities = get_communities(lpam_Got)\n",
    "print(all_communities, \"\\n\")\n",
    "\n",
    "matrice_corespondance = calc_matrice_correspondance(lpam_Got, all_communities)\n",
    "print(matrice_corespondance, \"\\n\")\n",
    "\n",
    "list_commu = table_lien_label_commu(matrice_corespondance, labels, all_communities)\n",
    "print(list_commu, \"\\n\")"
   ]
  },
  {
   "cell_type": "code",
   "execution_count": null,
   "metadata": {},
   "outputs": [],
   "source": [
    "\"\"\"\n",
    "fin de la partie test,\n",
    "la suite n'est pas encore faite\n",
    "\"\"\""
   ]
  },
  {
   "cell_type": "markdown",
   "metadata": {
    "id": "u-HMg4sUSriX"
   },
   "source": [
    "#### Analyse / Analysis\n",
    "Écrivez votre analyse ici / Write your analysis here"
   ]
  },
  {
   "cell_type": "markdown",
   "metadata": {
    "id": "r3FmllqgXG0d"
   },
   "source": [
    "# 2. Personnages influents dans GOT / Influent character in GOT (6 points)\n",
    "\n",
    "##  Analyse d'un réseau social \n",
    "Une autre analyse intéressante à faire avec un réseau social est de trouver les personnes influentes du réseau soit les personnes autour desquelles les gens du réseau se regroupent.\n",
    "\n",
    "Il existe des mesures qui permettent de connaître ces personnes: les mesures de centralité. **Vous devez implémenter les mesures vous-même et ne pas utilisez les implémentations de `networkx` de ces mesures.** Pour vous aider lors de l'implémentation de ses mesures, un deuxième toy dataset vous est fourni. Il ressemble à ceci (data/picture2.png):\n",
    "![title](data/picture2.png)\n",
    "\n",
    "## GOT datasets\n",
    "La série Games of Thrones est reconnue pour tuer ses personnages importants. Nous vous demandons de vérifier cette affirmation. Pour cette partie, vous devez utiliser tous les CSV donnés avec le TP (nodes, edges et deaths). Nous voulons que vous trouviez les personnages les plus influents de chaque saison et que vous les compariez avec la liste de personnages morts durant la saison.\n",
    "\n",
    "---\n",
    "\n",
    "##  Social network analysis\n",
    "\n",
    "Another interesting analysis to do with a social network is to find the influential people in the network, ie the people around whom the people in the network gather.\n",
    "\n",
    "There are measures which make it possible to know these people: the centrality measures. **You must implement those metrics yourselves. Do not use `networkx` implementation for the  tp.** To help you during the implementation of those measurements, a second toy dataset is provided to you. It looks like this (data/picture2.png): ![title](data/picture2.png)\n",
    "\n",
    "## GOT datasets\n",
    "The Games of Thrones series is known to kill its important characters. We ask you to verify this statement. For this part, you must use all the csv given with the TP (nodes, edges and deaths). We want you to find the most influential characters from each season and compare them with the list of dead characters during the season.\n"
   ]
  },
  {
   "cell_type": "markdown",
   "metadata": {
    "id": "uJxSGCnOXG0e"
   },
   "source": [
    "## 2.1 Centralité de degré / Degree centrality (1 point)\n",
    "\n",
    "Une première mesure simple pour trouver l'importance d'un sommet dans un réseau est la centralité de degré. Elle se calcule $$C_{D}(i) = \\frac{degree(i)}{n-1}$$\n",
    "\n",
    "- i: un sommet dans le réseau\n",
    "- n: le nombre de sommets\n",
    "- degree: le nombre d'arêtes attachées au sommet\n",
    "\n",
    "#### Implémentation\n",
    "1. Implémenter la fonction `calculate_degree_centrality`. Cette fonction calcule la centralité de degré pour tous les sommets du réseau et ajoute cette mesure à chaque sommet.\n",
    "\n",
    "Utilisez la fonction `test_degree_centrality` pour vérifier votre implémentation. Le sommet 1 devrait avoir la plus haute mesure de 0.4.\n",
    "\n",
    "---\n",
    "\n",
    "A first simple measure to find the importance of a node in a network is the degree centrality. It is calculated $$C_{D}(i) = \\frac{degree(i)}{n-1}$$\n",
    "\n",
    "- i: a node in the network\n",
    "- n: the number of nodes\n",
    "- degree: the number of edges attached to the node\n",
    "\n",
    "#### Implementation\n",
    "1. Implement the function `calculate_degree_centrality`. This function calculates degree centrality for all nodes in the network and adds this measurement to each node.\n",
    "\n",
    "Use the function `test_degree_centrality` to verify your implementation. The best node should be node 1 with 0.4."
   ]
  },
  {
   "cell_type": "code",
   "execution_count": 40,
   "metadata": {
    "id": "vLTg0prlSriZ"
   },
   "outputs": [],
   "source": [
    "def calculate_degree_centrality(social_network):\n",
    "    #TODO\n",
    "    nb_nodes = len(social_network.nodes)\n",
    "    \n",
    "    for node in social_network.nodes:\n",
    "        node_degree = social_network.degree[node]\n",
    "        social_network.nodes[node]['degree_centrality'] = node_degree/(nb_nodes-1)"
   ]
  },
  {
   "cell_type": "code",
   "execution_count": 41,
   "metadata": {
    "id": "ad3lK2B8Srie"
   },
   "outputs": [
    {
     "name": "stdout",
     "output_type": "stream",
     "text": [
      "Highest degree centrality node: 1 with 0.400\n"
     ]
    }
   ],
   "source": [
    "def test_degree_centrality():\n",
    "    social_network = load_unweighted_network(\"data/toy-nodes.csv\", \"data/toy-edges.csv\")\n",
    "    calculate_degree_centrality(social_network)\n",
    "    dict_centrality = nx.get_node_attributes(social_network, 'degree_centrality')\n",
    "    best_node = max(dict_centrality, key=dict_centrality.get)\n",
    "    print(\"Highest degree centrality node: {} with {:.3f}\".format(best_node, dict_centrality[best_node]))\n",
    "test_degree_centrality()"
   ]
  },
  {
   "cell_type": "markdown",
   "metadata": {
    "id": "fhPWALjLSrig"
   },
   "source": [
    "## 2.2 Centralité de proximité / Closeness centrality (1 point)\n",
    "\n",
    "Une autre mesure simple pour trouver l'importance d'un sommet dans un réseau est la centralité de proximité. Elle se calcule $$C_{P}(i) = \\frac{1}{AvDist(i)}$$\n",
    "\n",
    "- i: un sommet dans le réseau\n",
    "- AvDist: la moyenne de toutes les distances les plus courtes pour atteindre chaque sommet à partir du sommet i\n",
    "\n",
    "#### Implémentation\n",
    "1. Implémenter la fonction `calculate_closeness_centrality`. Cette fonction calcule la centralité de proximité pour tous les sommets du réseau et ajoute cette mesure à chaque sommet. Considérer chaque arête comme une distance de 1.\n",
    "\n",
    "**NB**: Utiliser la fonction `shortest_path()` du module Networkx pour trouver le chemin le plus court entre des sommets\n",
    "\n",
    "Utilisez la fonction `test_closeness_centrality` pour vérifier votre implémentation. Le sommet 7 devrait avoir la plus haute mesure de 0.577.\n",
    "\n",
    "---\n",
    "\n",
    "Another simple measure for finding the importance of a node in a network is closeness centrality. It is calculated $$C_{P}(i) = \\frac{1}{AvDist(i)}$$\n",
    "\n",
    "- i: a node in the network\n",
    "- AvDist: the average of all shortest distances to reach each vertex from vertex i\n",
    "\n",
    "#### Implementation\n",
    "1. Implement the function `calculate_closeness_centrality`. This function calculates closeness centrality for all nodes in the network and adds this measurement to each node. Consider each edge as a distance of 1.\n",
    "\n",
    "**NB**: Use the fucntion `shortest_path()` from Networkx to find the shortest path between two nodes.\n",
    "\n",
    "Use the function `test_closeness_centrality` to verify your implementation. The best node should be node 7 with 0.577."
   ]
  },
  {
   "cell_type": "code",
   "execution_count": 42,
   "metadata": {
    "id": "534teZVYSrii"
   },
   "outputs": [],
   "source": [
    "def calculate_closeness_centrality(social_network):\n",
    "    #TODO\n",
    "    nb_nodes = len(social_network.nodes)\n",
    "    \n",
    "    for node_i in social_network.nodes:\n",
    "        sum_length = 0\n",
    "        \n",
    "        for node_j in social_network.nodes:\n",
    "            \n",
    "            if(node_i != node_j):\n",
    "                path_length = nx.shortest_path_length(social_network, source=node_i, target=node_j)\n",
    "                sum_length += path_length\n",
    "                \n",
    "        social_network.nodes[node_i]['closeness_centrality'] = (nb_nodes-1)/sum_length"
   ]
  },
  {
   "cell_type": "code",
   "execution_count": 43,
   "metadata": {
    "id": "wVQG0XiFSril"
   },
   "outputs": [
    {
     "name": "stdout",
     "output_type": "stream",
     "text": [
      "Highest closeness centrality node: 7 with 0.577\n"
     ]
    }
   ],
   "source": [
    "def test_closeness_centrality():\n",
    "    social_network = load_unweighted_network(\"data/toy-nodes.csv\", \"data/toy-edges.csv\")\n",
    "    calculate_closeness_centrality(social_network)\n",
    "    dict_centrality = nx.get_node_attributes(social_network, 'closeness_centrality')\n",
    "    best_node = max(dict_centrality, key=dict_centrality.get)\n",
    "    print(\"Highest closeness centrality node: {} with {:.3f}\".format(best_node, dict_centrality[best_node]))\n",
    "\n",
    "test_closeness_centrality()"
   ]
  },
  {
   "cell_type": "markdown",
   "metadata": {
    "id": "OHTdy58OSrir"
   },
   "source": [
    "## 2.3 Centralité d'intermédiarité / Betweeness centrality (1 point)\n",
    "\n",
    "Une dernière mesure simple pour trouver l'importance d'un sommet dans un réseau est la centralité d'intermédiarité. Elle se calcule $$C_{I}(i) = \\frac{\\sum_{j<k}f_{jk}(i)}{\\binom{n}{2}}$$\n",
    "\n",
    "- n: le nombre de sommets dans le réseau\n",
    "- i: un sommet dans le réseau\n",
    "- j,k: deux sommets dans le réseau excluant i\n",
    "- $f_{jk}(i)$: le nombre de chemin le plus court partant du sommet j vers un sommet k (> j) passant par le sommet i \n",
    "\n",
    "#### Implémentation\n",
    "1. Implémenter la fonction `calculate_betweenness_centrality`. Cette fonction calcule la centralité d'intermédiarité pour tous les sommets du réseau et ajoute cette mesure à chaque sommet.\n",
    "\n",
    "Utilisez la fonction `test_betweennes_centrality` pour vérifier votre implémentation. Le sommet 7 devrait avoir la plus haute mesure de 0.45.\n",
    "\n",
    "---\n",
    "\n",
    "A final simple measure to find the importance of a node in a network is the betweeness centrality. It is calculated $$C_{I}(i) = \\frac{\\sum_{j<k}f_{jk}(i)}{\\binom{n}{2}}$$\n",
    "\n",
    "- n: the number of nodes in the network\n",
    "- i: a node in the network\n",
    "- j,k: two nodes in the network excluding i\n",
    "- $f_{jk}(i)$: the  number of shortest paths from vertex j to vertex k (> j) passing through node i\n",
    "\n",
    "#### Implementation\n",
    "1. Implement the function `calculate_betweenness_centrality`.This function calculates the betweenness centrality for all the nodes of the network and adds this measurement to each node.\n",
    "\n",
    "Use the function `test_betweennes_centrality` to verify your implementation. The best node should be the node 7 with 0.45.\n"
   ]
  },
  {
   "cell_type": "code",
   "execution_count": 52,
   "metadata": {
    "id": "_D2n5C0JSris"
   },
   "outputs": [],
   "source": [
    "def calculate_betweenness_centrality(social_network):\n",
    "    #TODO\n",
    "    nb_nodes = len(social_network.nodes)\n",
    "    C2_n = nb_nodes*(nb_nodes-1)/2\n",
    "    \n",
    "    for node_i in social_network.nodes:\n",
    "        paths_by_i = 0\n",
    "        \n",
    "        for j, node_j in enumerate(social_network.nodes):\n",
    "            for k, node_k in enumerate(social_network.nodes):\n",
    "                \n",
    "                if(node_i != node_j) and (node_i != node_k) and (j < k):\n",
    "                    path = nx.shortest_path(social_network, source=node_j, target=node_k)\n",
    "                    if node_i in path:\n",
    "                        paths_by_i += 1\n",
    "                \n",
    "        social_network.nodes[node_i]['betweenness_centrality'] = paths_by_i/C2_n"
   ]
  },
  {
   "cell_type": "code",
   "execution_count": 53,
   "metadata": {
    "id": "PGVYdrAOSriu"
   },
   "outputs": [
    {
     "name": "stdout",
     "output_type": "stream",
     "text": [
      "Highest betweenness centrality node: 7 with 0.450\n"
     ]
    }
   ],
   "source": [
    "def test_betweenness_centrality():\n",
    "    social_network = load_unweighted_network(\"data/toy-nodes.csv\", \"data/toy-edges.csv\")\n",
    "    calculate_betweenness_centrality(social_network)\n",
    "    dict_centrality = nx.get_node_attributes(social_network, 'betweenness_centrality')\n",
    "    best_node = max(dict_centrality, key=dict_centrality.get)\n",
    "    print(\"Highest betweenness centrality node: {} with {:.3f}\".format(best_node, dict_centrality[best_node]))\n",
    "\n",
    "test_betweenness_centrality()"
   ]
  },
  {
   "cell_type": "markdown",
   "metadata": {
    "id": "996_M0-sXG0w"
   },
   "source": [
    "## 2.4 Analyse de vos résultats / Analysis of your results (3 points)\n",
    "\n",
    "Executez les trois fonctions sur les réseaux de chaque saison et présentez le top 10 pour chaque mesure. **Les graphes des saisons 2, 4 et 6 sont déconnectés. Dans ce cas, considérez la plus grande composante connexe**. Pour chaque saison, comparez le top 10 des mesures avec la liste de morts de la saison disponible dans les csv death. Répondez aux questions suivantes. Elles sont des pistes de réflexions pour votre analyse.\n",
    "\n",
    "- Est-ce que le top 10 est suffisant pour trouver les morts importants de chaque saison? \n",
    "- Quelle mesure semble mieux prédire les morts? \n",
    "- Est-ce que la réputation de Games of Thrones de tuer plusieurs de ses personnages importants est fondée?\n",
    "\n",
    "**N.B.:** Si vous ne connaissez pas la série et vous n'êtes pas sûrs quels morts peuvent être considérés importants, faites une recherche Google sur les personnages importants. Mentionnez votre démarche et la conclusion de vos recherches. Il n'y a pas une liste précise de morts importants. Évidemment si vous me dite que Daenerys n'est pas importante, je vais douter de vos recherches. Le but est de voir votre travail de réflexion et d'analyse des mesures de centralité. \n",
    "\n",
    "---\n",
    "\n",
    "Run the three functions on the networks of each season and present the top 10 for each metric. **The season 2, 4 and 6 graphs are disconnected. In that case, consider the largest connected component**. For each season, compare the top 10 metrics with the season's death list in the death csv. Answer the following questions. They are guide for your analysis.\n",
    "\n",
    "- Is the top 10 enough to find the significant deaths of each season? \n",
    "- What measure seems to better predict the dead? \n",
    "- Is the reputation of Games of Thrones for killing many important characters founded?\n",
    "\n",
    "**N.B:** If you don't know the series and aren't sure which deaths are considered important, do a Google research on the important characters in the series. Metion your research and the conclusion of it. There isn't a precise list of important deaths but if you tell me that Daenerys isn't important, I will doubt of the seriousness of your research. The goal is to see how your analyse the results giving by centrality metrics."
   ]
  },
  {
   "cell_type": "markdown",
   "metadata": {
    "id": "y_S1YvI0Sriy"
   },
   "source": [
    "### Résultats / Results"
   ]
  },
  {
   "cell_type": "code",
   "execution_count": null,
   "metadata": {
    "id": "mtYPFnJ3Sri2"
   },
   "outputs": [],
   "source": [
    "# Mettez le code pour présenter les résultats ici"
   ]
  },
  {
   "cell_type": "code",
   "execution_count": 74,
   "metadata": {},
   "outputs": [],
   "source": [
    "def takeSecond(elem):\n",
    "    return elem[1]\n",
    "\n",
    "def social_network_for_season(season):\n",
    "    social_network = load_unweighted_network(\"data/got-s\"+str(season)+\"-nodes.csv\", \"data/got-s\"+str(season)+\"-edges.csv\")\n",
    "    return(social_network)\n",
    "\n",
    "def deg_close_bet_centrality_top10(social_network):\n",
    "    social_network = load_unweighted_network(\"data/got-s1-nodes.csv\", \"data/got-s1-edges.csv\")\n",
    "\n",
    "    calculate_degree_centrality(social_network)\n",
    "    data_degree_centrality = list(social_network.nodes.data('degree_centrality'))\n",
    "    data_degree_centrality.sort(key=takeSecond, reverse=True)\n",
    "\n",
    "    calculate_closeness_centrality(social_network)\n",
    "    data_closeness_centrality = list(social_network.nodes.data('closeness_centrality'))\n",
    "    data_closeness_centrality.sort(key=takeSecond, reverse=True)\n",
    "\n",
    "    calculate_betweenness_centrality(social_network)\n",
    "    data_betweenness_centrality = list(social_network.nodes.data('betweenness_centrality'))\n",
    "    data_betweenness_centrality.sort(key=takeSecond, reverse=True)\n",
    "        \n",
    "    return([data_degree_centrality[0:10], data_closeness_centrality[0:10], data_betweenness_centrality[0:10]])"
   ]
  },
  {
   "cell_type": "code",
   "execution_count": 79,
   "metadata": {},
   "outputs": [
    {
     "name": "stdout",
     "output_type": "stream",
     "text": [
      "Season 1\n",
      "\n",
      "data_degree_centrality\n",
      "1 ('NED', 0.456)\n",
      "2 ('TYRION', 0.328)\n",
      "3 ('CATELYN', 0.288)\n",
      "4 ('ROBERT', 0.288)\n",
      "5 ('ROBB', 0.24)\n",
      "6 ('CERSEI', 0.232)\n",
      "7 ('ARYA', 0.224)\n",
      "8 ('JOFFREY', 0.216)\n",
      "9 ('JON', 0.208)\n",
      "10 ('LITTLEFINGER', 0.208)\n",
      "\n",
      "data_closeness_centrality\n",
      "1 ('NED', 0.628140703517588)\n",
      "2 ('ROBERT', 0.5530973451327433)\n",
      "3 ('CATELYN', 0.5506607929515418)\n",
      "4 ('TYRION', 0.5434782608695652)\n",
      "5 ('JON', 0.5186721991701245)\n",
      "6 ('ROBB', 0.5122950819672131)\n",
      "7 ('JOFFREY', 0.5102040816326531)\n",
      "8 ('CERSEI', 0.508130081300813)\n",
      "9 ('ARYA', 0.5020080321285141)\n",
      "10 ('JAIME', 0.49800796812749004)\n",
      "\n",
      "data_betweenness_centrality\n",
      "1 ('NED', 0.38196825396825396)\n",
      "2 ('TYRION', 0.15136507936507937)\n",
      "3 ('CATELYN', 0.14082539682539683)\n",
      "4 ('DAENERYS', 0.13168253968253968)\n",
      "5 ('JON', 0.1059047619047619)\n",
      "6 ('ROBERT', 0.09777777777777778)\n",
      "7 ('ARYA', 0.06146031746031746)\n",
      "8 ('BRAN', 0.05523809523809524)\n",
      "9 ('ROBB', 0.0513015873015873)\n",
      "10 ('PYP', 0.04926984126984127)\n",
      "\n",
      "-----------------------------------------\n",
      "\n",
      "skip season 2\n",
      "\n",
      "Season 3\n",
      "\n",
      "data_degree_centrality\n",
      "1 ('NED', 0.456)\n",
      "2 ('TYRION', 0.328)\n",
      "3 ('CATELYN', 0.288)\n",
      "4 ('ROBERT', 0.288)\n",
      "5 ('ROBB', 0.24)\n",
      "6 ('CERSEI', 0.232)\n",
      "7 ('ARYA', 0.224)\n",
      "8 ('JOFFREY', 0.216)\n",
      "9 ('JON', 0.208)\n",
      "10 ('LITTLEFINGER', 0.208)\n",
      "\n",
      "data_closeness_centrality\n",
      "1 ('NED', 0.628140703517588)\n",
      "2 ('ROBERT', 0.5530973451327433)\n",
      "3 ('CATELYN', 0.5506607929515418)\n",
      "4 ('TYRION', 0.5434782608695652)\n",
      "5 ('JON', 0.5186721991701245)\n",
      "6 ('ROBB', 0.5122950819672131)\n",
      "7 ('JOFFREY', 0.5102040816326531)\n",
      "8 ('CERSEI', 0.508130081300813)\n",
      "9 ('ARYA', 0.5020080321285141)\n",
      "10 ('JAIME', 0.49800796812749004)\n",
      "\n",
      "data_betweenness_centrality\n",
      "1 ('NED', 0.38196825396825396)\n",
      "2 ('TYRION', 0.15136507936507937)\n",
      "3 ('CATELYN', 0.14082539682539683)\n",
      "4 ('DAENERYS', 0.13168253968253968)\n",
      "5 ('JON', 0.1059047619047619)\n",
      "6 ('ROBERT', 0.09777777777777778)\n",
      "7 ('ARYA', 0.06146031746031746)\n",
      "8 ('BRAN', 0.05523809523809524)\n",
      "9 ('ROBB', 0.0513015873015873)\n",
      "10 ('PYP', 0.04926984126984127)\n",
      "\n",
      "-----------------------------------------\n",
      "\n",
      "skip season 4\n",
      "\n",
      "Season 5\n",
      "\n",
      "data_degree_centrality\n",
      "1 ('NED', 0.456)\n",
      "2 ('TYRION', 0.328)\n",
      "3 ('CATELYN', 0.288)\n",
      "4 ('ROBERT', 0.288)\n",
      "5 ('ROBB', 0.24)\n",
      "6 ('CERSEI', 0.232)\n",
      "7 ('ARYA', 0.224)\n",
      "8 ('JOFFREY', 0.216)\n",
      "9 ('JON', 0.208)\n",
      "10 ('LITTLEFINGER', 0.208)\n",
      "\n",
      "data_closeness_centrality\n",
      "1 ('NED', 0.628140703517588)\n",
      "2 ('ROBERT', 0.5530973451327433)\n",
      "3 ('CATELYN', 0.5506607929515418)\n",
      "4 ('TYRION', 0.5434782608695652)\n",
      "5 ('JON', 0.5186721991701245)\n",
      "6 ('ROBB', 0.5122950819672131)\n",
      "7 ('JOFFREY', 0.5102040816326531)\n",
      "8 ('CERSEI', 0.508130081300813)\n",
      "9 ('ARYA', 0.5020080321285141)\n",
      "10 ('JAIME', 0.49800796812749004)\n",
      "\n",
      "data_betweenness_centrality\n",
      "1 ('NED', 0.38196825396825396)\n",
      "2 ('TYRION', 0.15136507936507937)\n",
      "3 ('CATELYN', 0.14082539682539683)\n",
      "4 ('DAENERYS', 0.13168253968253968)\n",
      "5 ('JON', 0.1059047619047619)\n",
      "6 ('ROBERT', 0.09777777777777778)\n",
      "7 ('ARYA', 0.06146031746031746)\n",
      "8 ('BRAN', 0.05523809523809524)\n",
      "9 ('ROBB', 0.0513015873015873)\n",
      "10 ('PYP', 0.04926984126984127)\n",
      "\n",
      "-----------------------------------------\n",
      "\n",
      "skip season 6\n",
      "\n",
      "Season 7\n",
      "\n",
      "data_degree_centrality\n",
      "1 ('NED', 0.456)\n",
      "2 ('TYRION', 0.328)\n",
      "3 ('CATELYN', 0.288)\n",
      "4 ('ROBERT', 0.288)\n",
      "5 ('ROBB', 0.24)\n",
      "6 ('CERSEI', 0.232)\n",
      "7 ('ARYA', 0.224)\n",
      "8 ('JOFFREY', 0.216)\n",
      "9 ('JON', 0.208)\n",
      "10 ('LITTLEFINGER', 0.208)\n",
      "\n",
      "data_closeness_centrality\n",
      "1 ('NED', 0.628140703517588)\n",
      "2 ('ROBERT', 0.5530973451327433)\n",
      "3 ('CATELYN', 0.5506607929515418)\n",
      "4 ('TYRION', 0.5434782608695652)\n",
      "5 ('JON', 0.5186721991701245)\n",
      "6 ('ROBB', 0.5122950819672131)\n",
      "7 ('JOFFREY', 0.5102040816326531)\n",
      "8 ('CERSEI', 0.508130081300813)\n",
      "9 ('ARYA', 0.5020080321285141)\n",
      "10 ('JAIME', 0.49800796812749004)\n",
      "\n",
      "data_betweenness_centrality\n",
      "1 ('NED', 0.38196825396825396)\n",
      "2 ('TYRION', 0.15136507936507937)\n",
      "3 ('CATELYN', 0.14082539682539683)\n",
      "4 ('DAENERYS', 0.13168253968253968)\n",
      "5 ('JON', 0.1059047619047619)\n",
      "6 ('ROBERT', 0.09777777777777778)\n",
      "7 ('ARYA', 0.06146031746031746)\n",
      "8 ('BRAN', 0.05523809523809524)\n",
      "9 ('ROBB', 0.0513015873015873)\n",
      "10 ('PYP', 0.04926984126984127)\n",
      "\n",
      "-----------------------------------------\n",
      "\n",
      "Season 8\n",
      "\n",
      "data_degree_centrality\n",
      "1 ('NED', 0.456)\n",
      "2 ('TYRION', 0.328)\n",
      "3 ('CATELYN', 0.288)\n",
      "4 ('ROBERT', 0.288)\n",
      "5 ('ROBB', 0.24)\n",
      "6 ('CERSEI', 0.232)\n",
      "7 ('ARYA', 0.224)\n",
      "8 ('JOFFREY', 0.216)\n",
      "9 ('JON', 0.208)\n",
      "10 ('LITTLEFINGER', 0.208)\n",
      "\n",
      "data_closeness_centrality\n",
      "1 ('NED', 0.628140703517588)\n",
      "2 ('ROBERT', 0.5530973451327433)\n",
      "3 ('CATELYN', 0.5506607929515418)\n",
      "4 ('TYRION', 0.5434782608695652)\n",
      "5 ('JON', 0.5186721991701245)\n",
      "6 ('ROBB', 0.5122950819672131)\n",
      "7 ('JOFFREY', 0.5102040816326531)\n",
      "8 ('CERSEI', 0.508130081300813)\n",
      "9 ('ARYA', 0.5020080321285141)\n",
      "10 ('JAIME', 0.49800796812749004)\n",
      "\n",
      "data_betweenness_centrality\n",
      "1 ('NED', 0.38196825396825396)\n",
      "2 ('TYRION', 0.15136507936507937)\n",
      "3 ('CATELYN', 0.14082539682539683)\n",
      "4 ('DAENERYS', 0.13168253968253968)\n",
      "5 ('JON', 0.1059047619047619)\n",
      "6 ('ROBERT', 0.09777777777777778)\n",
      "7 ('ARYA', 0.06146031746031746)\n",
      "8 ('BRAN', 0.05523809523809524)\n",
      "9 ('ROBB', 0.0513015873015873)\n",
      "10 ('PYP', 0.04926984126984127)\n",
      "\n",
      "-----------------------------------------\n",
      "\n"
     ]
    }
   ],
   "source": [
    "social_networks_Got = []\n",
    "data_Got = []\n",
    "for season in range(1, 9):\n",
    "    if(season == 2) or (season == 4) or (season == 6):\n",
    "        social_networks_Got.append(\"social_network from season \" + str(season))\n",
    "        data_Got.append(\"data from season \" + str(season))\n",
    "        print(\"skip season \" + str(season) + \"\\n\")\n",
    "        continue\n",
    "    social_network = social_network_for_season(season)\n",
    "    social_networks_Got.append(social_network)\n",
    "    data = deg_close_bet_centrality_top10(social_network)\n",
    "    data_Got.append(data)\n",
    "    \n",
    "    print(\"Season \" + str(season))\n",
    "    \n",
    "    print(\"\\ndata_degree_centrality\")\n",
    "    for i in range(0,10):\n",
    "        print(i+1, data_Got[season-1][0][i])\n",
    "\n",
    "    print(\"\\ndata_closeness_centrality\")\n",
    "    for i in range(0,10):\n",
    "        print(i+1, data_Got[season-1][1][i])\n",
    "\n",
    "    print(\"\\ndata_betweenness_centrality\")\n",
    "    for i in range(0,10):\n",
    "        print(i+1, data_Got[season-1][2][i])\n",
    "    \n",
    "    print(\"\\n-----------------------------------------\\n\")"
   ]
  },
  {
   "cell_type": "markdown",
   "metadata": {
    "id": "DeeyaJnKnDGB"
   },
   "source": [
    "### Analyse / Analysis\n",
    "\n",
    "Écrivez ici"
   ]
  }
 ],
 "metadata": {
  "colab": {
   "collapsed_sections": [],
   "name": "TP3.ipynb",
   "provenance": []
  },
  "kernelspec": {
   "name": "python3",
   "display_name": "Python 3.9.5 64-bit"
  },
  "language_info": {
   "codemirror_mode": {
    "name": "ipython",
    "version": 3
   },
   "file_extension": ".py",
   "mimetype": "text/x-python",
   "name": "python",
   "nbconvert_exporter": "python",
   "pygments_lexer": "ipython3",
   "version": "3.9.5"
  },
  "interpreter": {
   "hash": "02ba913c8c48810b8878620efdbae06043f70bf681b3726972e5d0169a878ef1"
  }
 },
 "nbformat": 4,
 "nbformat_minor": 1
}